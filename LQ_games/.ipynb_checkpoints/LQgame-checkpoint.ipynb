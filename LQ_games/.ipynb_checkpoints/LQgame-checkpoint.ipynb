{
 "cells": [
  {
   "cell_type": "code",
   "execution_count": 2,
   "metadata": {},
   "outputs": [],
   "source": [
    "import numpy as np\n",
    "import matplotlib.pyplot as plt"
   ]
  },
  {
   "cell_type": "code",
   "execution_count": 82,
   "metadata": {},
   "outputs": [],
   "source": [
    "# dynamics definition\n",
    "numPlayers = 4;\n",
    "T = 4;\n",
    "A = np.eye(2);\n",
    "B = np.zeros((2, 1, numPlayers))\n",
    "B[:,:,0] = np.array([[1], [0]]);\n",
    "B[:,:,1] = np.array([[1], [-1]])/np.sqrt(2);\n",
    "B[:,:,2] = np.array([[1], [1]])/np.sqrt(2);\n",
    "B[:,:,3] = np.array([[0], [-1]]);\n",
    "G = np.zeros((2*T, T*1, numPlayers)); # 2 is the row dim of B, 1 is the column dim of B\n",
    "H = np.zeros((T*2, 2));\n",
    "for p in range(numPlayers):\n",
    "    for col in range(T):\n",
    "        Abar = np.eye(2); row=col+1;\n",
    "        while row < T:\n",
    "            G[row*2: (row+1)*2, col, p] = np.squeeze(Abar.dot(B[:,:,p]));\n",
    "            if p == 0:\n",
    "                H[col*2:(col+1)*2,:] = 1.0*Abar;\n",
    "            Abar  = Abar.dot(A);\n",
    "            row += 1;\n",
    "Q = np.eye(2);\n",
    "R = np.eye(1);"
   ]
  },
  {
   "cell_type": "code",
   "execution_count": 118,
   "metadata": {},
   "outputs": [
    {
     "name": "stdout",
     "output_type": "stream",
     "text": [
      "(0.016238783574565985+0j)\n",
      "[0.81978466+0.j 0.96287476+0.j 0.97375882+0.j 0.81978466+0.j\n",
      " 0.96287476+0.j 0.97375882+0.j 0.98376122+0.j 0.98376122+0.j\n",
      " 0.98376122+0.j 0.98376122+0.j 0.98376122+0.j 0.98376122+0.j\n",
      " 0.98376122+0.j 0.98376122+0.j 0.98376122+0.j 0.98376122+0.j]\n"
     ]
    }
   ],
   "source": [
    "# derive the step sizes\n",
    "J = np.zeros((T*numPlayers,T*numPlayers));\n",
    "diagQ = np.eye(2*T); diagR = np.eye(T);\n",
    "for i in range(T):\n",
    "    diagQ[i*2: 2*(i+1), 2*i: 2*(i+1)] = Q;\n",
    "    diagR[i: (i+1), i: (i+1)] = R;\n",
    "    \n",
    "for i in range(numPlayers):\n",
    "    for j in range(numPlayers):\n",
    "        J[T*i:T*(i+1), T*j:T*(j+1)]  = G[:,:,i].T.dot(diagQ).dot(G[:,:,j]);\n",
    "        if i == j:\n",
    "            J[T*i:T*(i+1), T*i:T*(i+1)] += diagR;\n",
    "S = 0.5*(J + J.T);  \n",
    "eigS, eigVecS = np.linalg.eig(S.T.dot(S));\n",
    "# print (eigS);\n",
    "alpha = np.min(eigS); \n",
    "eigJ, eigVecJ = np.linalg.eig(J.T.dot(J));\n",
    "beta = np.max(eigJ);\n",
    "gammai = 2*np.sqrt(alpha)/beta;\n",
    "# gammai= alpha/beta;\n",
    "\n",
    "print (gammai)\n",
    "dim, dim2 = J.shape;\n",
    "barA = np.eye(dim) - gammai*J; \n",
    "w, v = np.linalg.eig(barA);\n",
    "print (w)            \n"
   ]
  },
  {
   "cell_type": "code",
   "execution_count": 95,
   "metadata": {},
   "outputs": [
    {
     "name": "stdout",
     "output_type": "stream",
     "text": [
      "(16, 16)\n"
     ]
    }
   ],
   "source": [
    "print(J.shape)"
   ]
  },
  {
   "cell_type": "code",
   "execution_count": 115,
   "metadata": {},
   "outputs": [
    {
     "name": "stdout",
     "output_type": "stream",
     "text": [
      "(100,)\n"
     ]
    },
    {
     "name": "stderr",
     "output_type": "stream",
     "text": [
      "C:\\Users\\craba\\Anaconda3\\lib\\site-packages\\ipykernel_launcher.py:15: ComplexWarning: Casting complex values to real discards the imaginary part\n",
      "  from ipykernel import kernelapp as app\n"
     ]
    }
   ],
   "source": [
    "K = 100; # number of times to iterate\n",
    "# run gradient dynamics\n",
    "x0 = np.random.rand((2)) + np.array([-0.5, -0.5]);\n",
    "ut = np.zeros((numPlayers*T,K));\n",
    "Jt = np.zeros((K, numPlayers));\n",
    "ut[:,0] = np.random.rand((numPlayers*T));\n",
    "Hstacked = np.zeros((numPlayers*T, 2));\n",
    "\n",
    "for p in range(numPlayers):\n",
    "    Hstacked[p*T:(p+1)*T, :] = G[:, :, p].T.dot(diagQ).dot(H);\n",
    "    \n",
    "# xt = np.zeros((2,T,K)); x[:,]\n",
    "\n",
    "for k in range(1,K):\n",
    "    ut[:, k] = barA.dot(ut[:,k-1]) + numPlayers*Hstacked.dot(x0);\n",
    "    xk = H.dot(x0);\n",
    "    for p in range(numPlayers):\n",
    "        xk += G[:,:,p].dot(ut[p*T:(p+1)*T,k]);\n",
    "    for p in range(numPlayers):  \n",
    "#         print(p+1)\n",
    "        Jt[k,p] = 0.5*xk.T.dot(diagQ).dot(xk) + 0.5*ut[p*T:(p+1)*T, k].dot(diagR).dot(ut[p*T:(p+1)*T, k]); \n",
    "# drawGame(x0, u0)\n",
    "print(np.linspace(0,K,100).shape)"
   ]
  },
  {
   "cell_type": "code",
   "execution_count": 117,
   "metadata": {},
   "outputs": [
    {
     "data": {
      "image/png": "[encoded data removed]",
      "text/plain": [
       "<Figure size 432x288 with 1 Axes>"
      ]
     },
     "metadata": {
      "needs_background": "light"
     },
     "output_type": "display_data"
    }
   ],
   "source": [
    "plt.figure()\n",
    "for p in range(numPlayers):\n",
    "    plt.plot(np.linspace(0,K,100), Jt[:,p]);\n",
    "plt.grid()\n",
    "plt.show()"
   ]
  },
  {
   "cell_type": "code",
   "execution_count": 58,
   "metadata": {},
   "outputs": [],
   "source": [
    "def drawGame(xt, ut):\n",
    "    plt.figure();\n",
    "    \n",
    "    for p in range(numPlayers):\n",
    "        plt.arrow(x0[0], x0[1],  B[0,0,p]*ut[p], B[1, 0, p]*ut[p], color = 'g');\n",
    "    plt.scatter(x0[0], x0[1], color = 'b');\n",
    "    bounds = 0.5*np.array([[-1,-1,1,1], [-1,1,1,-1]]);\n",
    "    plt.scatter(bounds[0,:], bounds[1,:], color = 'w');\n",
    "    plt.grid();\n",
    "    plt.show();\n",
    "    "
   ]
  },
  {
   "cell_type": "code",
   "execution_count": 61,
   "metadata": {},
   "outputs": [
    {
     "data": {
      "image/png": "[encoded data removed]",
      "text/plain": [
       "<Figure size 432x288 with 1 Axes>"
      ]
     },
     "metadata": {
      "needs_background": "light"
     },
     "output_type": "display_data"
    }
   ],
   "source": []
  }
 ],
 "metadata": {
  "kernelspec": {
   "display_name": "Python 3",
   "language": "python",
   "name": "python3"
  },
  "language_info": {
   "codemirror_mode": {
    "name": "ipython",
    "version": 3
   },
   "file_extension": ".py",
   "mimetype": "text/x-python",
   "name": "python",
   "nbconvert_exporter": "python",
   "pygments_lexer": "ipython3",
   "version": "3.7.5"
  }
 },
 "nbformat": 4,
 "nbformat_minor": 2
}
