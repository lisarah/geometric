{
 "cells": [
  {
   "cell_type": "code",
   "execution_count": 1,
   "metadata": {},
   "outputs": [],
   "source": [
    "import numpy as np\n",
    "import matplotlib.pyplot as plt\n",
    "from matplotlib import animation, rc\n",
    "from IPython.display import HTML"
   ]
  },
  {
   "cell_type": "code",
   "execution_count": 210,
   "metadata": {},
   "outputs": [
    {
     "name": "stdout",
     "output_type": "stream",
     "text": [
      "[[ 0.  0.  0.  0.  0.  0.  0.  0.  0.]\n",
      " [ 0.  0.  0.  0.  0.  0.  0.  0.  0.]\n",
      " [ 0.  0.  0.  0.  0.  0.  0.  0.  0.]\n",
      " [-1.  0.  0.  0.  0.  0.  0.  0.  0.]\n",
      " [ 0.  0.  0.  0.  0.  0.  0.  0.  0.]\n",
      " [-1. -1.  0.  0.  0.  0.  0.  0.  0.]\n",
      " [ 0.  0.  0.  0.  0.  0.  0.  0.  0.]\n",
      " [-1. -1. -1.  0.  0.  0.  0.  0.  0.]\n",
      " [ 0.  0.  0.  0.  0.  0.  0.  0.  0.]\n",
      " [-1. -1. -1. -1.  0.  0.  0.  0.  0.]\n",
      " [ 0.  0.  0.  0.  0.  0.  0.  0.  0.]\n",
      " [-1. -1. -1. -1. -1.  0.  0.  0.  0.]\n",
      " [ 0.  0.  0.  0.  0.  0.  0.  0.  0.]\n",
      " [-1. -1. -1. -1. -1. -1.  0.  0.  0.]\n",
      " [ 0.  0.  0.  0.  0.  0.  0.  0.  0.]\n",
      " [-1. -1. -1. -1. -1. -1. -1.  0.  0.]\n",
      " [ 0.  0.  0.  0.  0.  0.  0.  0.  0.]\n",
      " [-1. -1. -1. -1. -1. -1. -1. -1.  0.]\n",
      " [ 0.  0.  0.  0.  0.  0.  0.  0.  0.]\n",
      " [-1. -1. -1. -1. -1. -1. -1. -1. -1.]]\n"
     ]
    }
   ],
   "source": [
    "# dynamics definition\n",
    "numPlayers = 4;\n",
    "T = 10;\n",
    "A = np.eye(2);\n",
    "B = np.zeros((2, 1, numPlayers))\n",
    "B[:,:,0] = np.array([[1], [0]]);\n",
    "B[:,:,1] = np.array([[1], [-1]])/np.sqrt(2);\n",
    "B[:,:,2] = np.array([[1], [1]])/np.sqrt(2);\n",
    "B[:,:,3] = np.array([[0], [-1]]);\n",
    "G = np.zeros((2*T, T*1 -1, numPlayers)); # 2 is the row dim of B, 1 is the column dim of B\n",
    "H = np.zeros((T*2, 2));\n",
    "for p in range(numPlayers):\n",
    "    for col in range(T):\n",
    "        Abar = np.eye(2); row=col+1;\n",
    "        while row < T:\n",
    "            G[row*2: (row+1)*2, col, p] = np.squeeze(Abar.dot(B[:,:,p]));\n",
    "            if p == 0:\n",
    "                H[col*2:(col+1)*2,:] = 1.0*Abar;\n",
    "            Abar  = Abar.dot(A);\n",
    "            row += 1;\n",
    "        if p == 0:\n",
    "            H[col*2:(col+1)*2,:] = 1.0*Abar;\n",
    "Rscaler = 10.;\n",
    "Q = np.eye(2);\n",
    "R = Rscaler*np.eye(1);\n",
    "print (G[:,:,3])"
   ]
  },
  {
   "cell_type": "code",
   "execution_count": 212,
   "metadata": {},
   "outputs": [
    {
     "name": "stdout",
     "output_type": "stream",
     "text": [
      "(0.00432130085556121+0j)\n",
      "[0.6399458 +0.j 0.92093338+0.j 0.6399458 +0.j 0.94956441+0.j\n",
      " 0.92093338+0.j 0.94339668+0.j 0.94339668+0.j 0.94956441+0.j\n",
      " 0.95207672+0.j 0.95207672+0.j 0.95331742+0.j 0.95331742+0.j\n",
      " 0.95399356+0.j 0.95399356+0.j 0.95456618+0.j 0.95456618+0.j\n",
      " 0.9543717 +0.j 0.9543717 +0.j 0.95678699+0.j 0.95678699+0.j\n",
      " 0.95678699+0.j 0.95678699+0.j 0.95678699+0.j 0.95678699+0.j\n",
      " 0.95678699+0.j 0.95678699+0.j 0.95678699+0.j 0.95678699+0.j\n",
      " 0.95678699+0.j 0.95678699+0.j 0.95678699+0.j 0.95678699+0.j\n",
      " 0.95678699+0.j 0.95678699+0.j 0.95678699+0.j 0.95678699+0.j]\n"
     ]
    }
   ],
   "source": [
    "# derive the step sizes\n",
    "J = np.zeros(((T-1)*numPlayers,(T-1)*numPlayers));\n",
    "diagQ = np.eye(2*T); diagR = Rscaler*np.eye(T-1);\n",
    "for i in range(T):\n",
    "    diagQ[i*2: 2*(i+1), 2*i: 2*(i+1)] = Q;\n",
    "    if i < T-1:\n",
    "        diagR[i: (i+1), i: (i+1)] = R;\n",
    "    \n",
    "for i in range(numPlayers):\n",
    "    for j in range(numPlayers):\n",
    "        J[(T-1)*i:(T-1)*(i+1), (T-1)*j:(T-1)*(j+1)]  = G[:,:,i].T.dot(diagQ).dot(G[:,:,j]);\n",
    "        if i == j:\n",
    "            J[(T-1)*i:(T-1)*(i+1), (T-1)*i:(T-1)*(i+1)] += diagR;\n",
    "S = 0.5*(J + J.T);  \n",
    "eigS, eigVecS = np.linalg.eig(S.T.dot(S));\n",
    "# print (eigS);\n",
    "alpha = np.min(eigS); \n",
    "eigJ, eigVecJ = np.linalg.eig(J.T.dot(J));\n",
    "beta = np.max(eigJ);\n",
    "gammai = 3*np.sqrt(alpha)/beta;\n",
    "# gammai= alpha/beta;\n",
    "\n",
    "print (gammai)\n",
    "dim, dim2 = J.shape;\n",
    "barA = np.eye(dim) - gammai*J; \n",
    "w, v = np.linalg.eig(barA);\n",
    "print (w)            \n"
   ]
  },
  {
   "cell_type": "code",
   "execution_count": 4,
   "metadata": {},
   "outputs": [
    {
     "name": "stdout",
     "output_type": "stream",
     "text": [
      "(36, 36)\n"
     ]
    }
   ],
   "source": [
    "print(J.shape)"
   ]
  },
  {
   "cell_type": "code",
   "execution_count": 235,
   "metadata": {},
   "outputs": [
    {
     "name": "stderr",
     "output_type": "stream",
     "text": [
      "/home/sarahli/anaconda2/lib/python2.7/site-packages/ipykernel_launcher.py:15: ComplexWarning: Casting complex values to real discards the imaginary part\n",
      "  from ipykernel import kernelapp as app\n"
     ]
    },
    {
     "data": {
      "text/plain": [
       "10"
      ]
     },
     "execution_count": 235,
     "metadata": {},
     "output_type": "execute_result"
    }
   ],
   "source": [
    "K = 100; # number of times to iterate\n",
    "# run gradient dynamics\n",
    "x0 = 5*np.random.rand((2)) + np.array([-0.5, -0.5]);\n",
    "ut = np.zeros((numPlayers*(T-1),K));\n",
    "Jt = np.zeros((K, numPlayers));\n",
    "ut[:,0] = np.random.rand((numPlayers*(T-1)));\n",
    "Hstacked = np.zeros((numPlayers*(T-1), 2));\n",
    "\n",
    "for p in range(numPlayers):\n",
    "    Hstacked[p*(T-1):(p+1)*(T-1), :] = G[:, :, p].T.dot(diagQ).dot(H);\n",
    "     \n",
    "xt = np.zeros((T*2, K))    \n",
    "for k in range(K):\n",
    "    if k> 0:\n",
    "        ut[:, k] = barA.dot(ut[:,k-1]) - gammai*Hstacked.dot(x0);\n",
    "    xt[:,k] = H.dot(x0);\n",
    "    for p in range(numPlayers):\n",
    "#         print((p+1)*T)\n",
    "        xt[:,k] += G[:,:,p].dot(ut[p*(T-1):(p+1)*(T-1),k]);\n",
    "    for p in range(numPlayers):  \n",
    "#         print(p+1)\n",
    "        Jt[k,p] = 0.5*xt[:,k].T.dot(diagQ).dot(xt[:,k]) + 0.5*ut[p*(T-1):(p+1)*(T-1), k].T.dot(diagR).dot(ut[p*(T-1):(p+1)*(T-1), k]); \n",
    "10\n",
    "# drawGame(x0, u0)\n",
    "# print(np.linspace(0,K,100).shape)"
   ]
  },
  {
   "cell_type": "code",
   "execution_count": 236,
   "metadata": {},
   "outputs": [
    {
     "data": {
      "image/png": "[encoded data removed]",
      "text/plain": [
       "<Figure size 432x288 with 1 Axes>"
      ]
     },
     "metadata": {
      "needs_background": "light"
     },
     "output_type": "display_data"
    }
   ],
   "source": [
    "%matplotlib inline\n",
    "plt.figure()\n",
    "for p in range(numPlayers):\n",
    "    plt.plot(np.linspace(0,K,K), Jt[:,p]);\n",
    "plt.grid()\n",
    "plt.xscale('log')\n",
    "plt.yscale('log')\n",
    "plt.show()"
   ]
  },
  {
   "cell_type": "code",
   "execution_count": 237,
   "metadata": {},
   "outputs": [
    {
     "name": "stdout",
     "output_type": "stream",
     "text": [
      "[ 3.48040183 -0.17962171  4.60934396 -0.48768589  5.62341139 -0.90249477\n",
      "  7.11198647 -0.61056842  8.31666484 -1.29627981  9.33630479 -1.79608362\n",
      " 11.16123709 -2.34515747 12.06993052 -2.26728825 13.51530053 -2.94375227\n",
      " 14.83273806 -3.34819199]\n",
      "[[1. 0.]\n",
      " [0. 1.]\n",
      " [1. 0.]\n",
      " [0. 1.]\n",
      " [1. 0.]\n",
      " [0. 1.]\n",
      " [1. 0.]\n",
      " [0. 1.]\n",
      " [1. 0.]\n",
      " [0. 1.]\n",
      " [1. 0.]\n",
      " [0. 1.]\n",
      " [1. 0.]\n",
      " [0. 1.]\n",
      " [1. 0.]\n",
      " [0. 1.]\n",
      " [1. 0.]\n",
      " [0. 1.]\n",
      " [1. 0.]\n",
      " [0. 1.]]\n"
     ]
    }
   ],
   "source": [
    "xF = xt[:,0];\n",
    "print (xF);\n",
    "print (H)\n",
    "# uF = ut[:,K-1]\n",
    "# print (uF);\n",
    "# print (A)\n",
    "# fig, ax = plt.subplots()\n",
    "# ax.set_xlim((-1, 1));\n",
    "# ax.set_ylim((-1, 2));\n",
    "\n",
    "\n",
    "# plt.figure()\n",
    "# for p in range(numPlayers):\n",
    "#     plt.plot(np.linspace(0,K,100), Jt[:,p]);\n",
    "# plt.grid()\n",
    "# plt.yscale('log')\n",
    "# plt.show()\n"
   ]
  },
  {
   "cell_type": "code",
   "execution_count": 238,
   "metadata": {},
   "outputs": [
    {
     "data": {
      "image/png": "[encoded data removed]",
      "text/plain": [
       "<Figure size 432x288 with 1 Axes>"
      ]
     },
     "metadata": {
      "needs_background": "light"
     },
     "output_type": "display_data"
    },
    {
     "data": {
      "image/png": "[encoded data removed]",
      "text/plain": [
       "<Figure size 432x288 with 1 Axes>"
      ]
     },
     "metadata": {
      "needs_background": "light"
     },
     "output_type": "display_data"
    },
    {
     "data": {
      "image/png": "[encoded data removed]",
      "text/plain": [
       "<Figure size 432x288 with 1 Axes>"
      ]
     },
     "metadata": {
      "needs_background": "light"
     },
     "output_type": "display_data"
    }
   ],
   "source": [
    "%matplotlib inline\n",
    "\n",
    "def drawGame(xt, ut):\n",
    "    plt.figure();\n",
    "    \n",
    "    for p in range(numPlayers):\n",
    "        plt.arrow(x0[0], x0[1],  B[0,0,p]*ut[p], B[1, 0, p]*ut[p], color = 'g');\n",
    "    plt.scatter(x0[0], x0[1], color = 'b');\n",
    "    bounds = 0.5*np.array([[-1,-1,1,1], [-1,1,1,-1]]);\n",
    "    plt.scatter(bounds[0,:], bounds[1,:], color = 'w');\n",
    "    plt.grid();\n",
    "    plt.show();\n",
    "# originX = np.ones(4)*xF[2*i];\n",
    "# originY = np.ones(4)*xF[2*i+1];\n",
    "# dx = np.array([B[0,0,0]*ut[numPlayers*i, K-1],\n",
    "#                B[0,0,1]*ut[numPlayers*i+1, K-1],\n",
    "#                B[0,0,2]*ut[numPlayers*i+2, K-1],\n",
    "#                B[0,0,3]*ut[numPlayers*i+3, K-1]]);\n",
    "# dy = np.array([B[1,0,0]*ut[numPlayers*i, K-1],\n",
    "#                B[1,0,1]*ut[numPlayers*i+1, K-1],\n",
    "#                B[1,0,2]*ut[numPlayers*i+2, K-1],\n",
    "#                B[1,0,3]*ut[numPlayers*i+3, K-1]]);\n",
    "\n",
    "# print (dx)\n",
    "# fig, ax = plt.subplots();\n",
    "# limits = 0.2;\n",
    "# ax.set_xlim((-limits, limits));\n",
    "# ax.set_ylim((-limits, limits));\n",
    "# plt.plot(xF[2*i], xF[2*i+1], color = 'b', label = str(i));\n",
    "#     originX = np.ones(4)*xF[2*i];\n",
    "for Kk in [0, K/2, K-1]:\n",
    "    xF = xt[:,Kk];\n",
    "    plt.figure();\n",
    "    for i in range(T-1):\n",
    "        color = None;\n",
    "        if Kk == 0:\n",
    "            color =  (1.*i/T, 0, 0);\n",
    "        elif Kk == K/2:\n",
    "            color = (0, 1.*i/T, 0);\n",
    "        else:\n",
    "            color = (0, 0, 1.*i/T);\n",
    "        arrowScale = 4./(Kk+10.);\n",
    "    #     originX = np.ones(4)*xF[2*i];\n",
    "    #     originY = np.ones(4)*xF[2*i+1];\n",
    "        dx = np.array([B[0,0,0]*ut[numPlayers*i, Kk]*arrowScale,\n",
    "                       B[0,0,1]*ut[numPlayers*i+1, Kk]*arrowScale,\n",
    "                       B[0,0,2]*ut[numPlayers*i+2, Kk]*arrowScale,\n",
    "                       B[0,0,3]*ut[numPlayers*i+3, Kk]*arrowScale]);\n",
    "        dy = np.array([B[1,0,0]*ut[numPlayers*i, Kk]*arrowScale,\n",
    "                       B[1,0,1]*ut[numPlayers*i+1, Kk]*arrowScale,\n",
    "                       B[1,0,2]*ut[numPlayers*i+2, Kk]*arrowScale,\n",
    "                       B[1,0,3]*ut[numPlayers*i+3, Kk]*arrowScale]);\n",
    "        # plt.arrow(originX, originY,  dx, dy, color = 'g');\n",
    "        for p in range(numPlayers):\n",
    "    #         print(xF[2*i], xF[2*i+1],  dx[p], dy[p])\n",
    "            plt.arrow(xF[2*i], xF[2*i+1],  dx[p], dy[p], color = 'g');\n",
    "        plt.scatter(xF[2*i], xF[2*i+1], color=color, label = str(i));\n",
    "    plt.scatter(xF[2*(T-1)], xF[2*(T-1)+1], color =color, label = str(T - 1));\n",
    "    plt.grid(); plt.legend();plt.show(); \n",
    "# plt.grid();\n",
    "# # plt.legend()\n",
    "# plt.show()"
   ]
  },
  {
   "cell_type": "code",
   "execution_count": 224,
   "metadata": {},
   "outputs": [
    {
     "name": "stdout",
     "output_type": "stream",
     "text": [
      "[ 0.54595686  1.20641941  1.76596875  0.2929929   2.89024334 -0.14847922\n",
      "  4.54110108 -0.46075093  6.55543457 -1.21132336  8.44173585 -2.10723752\n",
      "  9.53513558 -1.72262125 10.6949736  -2.38797458 11.23036287 -3.11302617\n",
      " 12.44069739 -3.61741648]\n",
      "[ 0.54595686  1.76596875  2.89024334  4.54110108  6.55543457  8.44173585\n",
      "  9.53513558 10.6949736  11.23036287 12.44069739]\n",
      "[ 1.20641941  0.2929929  -0.14847922 -0.46075093 -1.21132336 -2.10723752\n",
      " -1.72262125 -2.38797458 -3.11302617 -3.61741648]\n"
     ]
    }
   ],
   "source": [
    "xF = xt[:,0];\n",
    "print(xF)\n",
    "print(xF[::2])\n",
    "print(xF[1::2])"
   ]
  },
  {
   "cell_type": "code",
   "execution_count": 247,
   "metadata": {},
   "outputs": [
    {
     "data": {
      "image/png": "[encoded data removed]",
      "text/plain": [
       "<Figure size 432x288 with 1 Axes>"
      ]
     },
     "metadata": {
      "needs_background": "light"
     },
     "output_type": "display_data"
    }
   ],
   "source": [
    "%matplotlib inline\n",
    "fig = plt.figure()\n",
    "limits = 5;\n",
    "ax = plt.axes(xlim=(-limits, limits), ylim=(-limits, limits));\n",
    "line, = ax.plot([], [], 'o-', lw = 3);\n",
    "plt.grid();\n",
    "\n",
    "def init(): \n",
    "    line.set_data([],[]);\n",
    "    return (line,)\n",
    "def animate(i):\n",
    "#     ax.clear();\n",
    "    xF = xt[:,i];\n",
    "    line.set_data(xF[::2], xF[1::2])\n",
    "    return (line,)\n",
    "\n",
    "anim = animation.FuncAnimation(fig, animate, init_func = init, frames=K, interval = 50, blit=True);\n"
   ]
  },
  {
   "cell_type": "code",
   "execution_count": 248,
   "metadata": {
    "scrolled": true
   },
   "outputs": [
    {
     "data": {
      "text/html": [
       "<video width=\"432\" height=\"288\" controls autoplay loop>\n",
       "  <source type=\"video/mp4\" src=\"data:video/mp4;base64,AAAAHGZ0eXBNNFYgAAACAGlzb21pc28yYXZjMQAAAAhmcmVlAAAr+G1kYXQAAAKuBgX//6rcRem9\n",
       "5tlIt5Ys2CDZI+7veDI2NCAtIGNvcmUgMTQ4IHIyNjQzIDVjNjU3MDQgLSBILjI2NC9NUEVHLTQg\n",
       "QVZDIGNvZGVjIC0gQ29weWxlZnQgMjAwMy0yMDE1IC0gaHR0cDovL3d3dy52aWRlb2xhbi5vcmcv\n",
       "eDI2NC5odG1sIC0gb3B0aW9uczogY2FiYWM9MSByZWY9MyBkZWJsb2NrPTE6MDowIGFuYWx5c2U9\n",
       "MHgzOjB4MTEzIG1lPWhleCBzdWJtZT03IHBzeT0xIHBzeV9yZD0xLjAwOjAuMDAgbWl4ZWRfcmVm\n",
       "PTEgbWVfcmFuZ2U9MTYgY2hyb21hX21lPTEgdHJlbGxpcz0xIDh4OGRjdD0xIGNxbT0wIGRlYWR6\n",
       "b25lPTIxLDExIGZhc3RfcHNraXA9MSBjaHJvbWFfcXBfb2Zmc2V0PS0yIHRocmVhZHM9OSBsb29r\n",
       "YWhlYWRfdGhyZWFkcz0xIHNsaWNlZF90aHJlYWRzPTAgbnI9MCBkZWNpbWF0ZT0xIGludGVybGFj\n",
       "ZWQ9MCBibHVyYXlfY29tcGF0PTAgY29uc3RyYWluZWRfaW50cmE9MCBiZnJhbWVzPTMgYl9weXJh\n",
       "bWlkPTIgYl9hZGFwdD0xIGJfYmlhcz0wIGRpcmVjdD0xIHdlaWdodGI9MSBvcGVuX2dvcD0wIHdl\n",
       "aWdodHA9MiBrZXlpbnQ9MjUwIGtleWludF9taW49MjAgc2NlbmVjdXQ9NDAgaW50cmFfcmVmcmVz\n",
       "aD0wIHJjX2xvb2thaGVhZD00MCByYz1jcmYgbWJ0cmVlPTEgY3JmPTIzLjAgcWNvbXA9MC42MCBx\n",
       "cG1pbj0wIHFwbWF4PTY5IHFwc3RlcD00IGlwX3JhdGlvPTEuNDAgYXE9MToxLjAwAIAAAAgDZYiE\n",
       "ADv//vdOvwKbRZdqA5JXCvbKpCZZuVJrAfKmAAADAAARsG58lw15q9IkAACvW99I/TP+YBnVCoMl\n",
       "ztxOUV186mCaw0RH5TG+Ir7IEeSIgpm5FBbetISxwhfdFZ4HXSXKcDOQwdDzPqMzepo4EsVTQ76A\n",
       "R6KWfs7pLaBPSgAyDoA1pPxStZfqaUF8jDf1E4EnDAMZ5qGmZMBSTPabEzVS9x0OLuu7nrkg3U9f\n",
       "FR5lqfLWmr1YsAYknc68MXHr8HBVW76UD09aquESAgEyMkUM4ZtfmjCKAsOUimBsdwO9MS5u5Xhu\n",
       "r0a0F2f5yz0Fp9pc2P7ykVoz902NCFWeYeQPl7J/ZyjvT8rUr0KOHLQVLBFgNJM7WuOJrrd5eINC\n",
       "38hOHo0NbzuVnBsGdz7os68c2yChEO1TWj5+b/yjpf0Aq9Z+LMD/+3KinMnXIh0bL6/gR16kr7fa\n",
       "d4sJgDsd+FkkvAArJ2k0xDVD2IrBIxU/kP//BHnHPdLA+snmqbWS6ohSo6xr83WibYK7/fxVXQCJ\n",
       "JiVRIAh8Ld8pAQtct0fhBhg2Qvh8T2ZRMM8QHdxgTYYuivx65Zdwwd+qk3F+3sHotha01H6VCjC3\n",
       "VI6hy/tTBZg8y6LHJjqHip/5fpOYrhEhmGqMPIpeagFnA2KeWiHMFqiuQVlUYJnrJyfjoDLEWLYS\n",
       "Y+JvpUgbhxyi/96/gdjD7qrNP/nmBH8pdiILV9RmgADRB44jX/6g9JviJ1OwERRkWYeqZVIPSzG5\n",
       "zfAekO3c83E0+AtAB6YPNI7WmHNEQjBT68NgY3nRRGhpzEip9sop21JbGdW4p8BzI+NCnNCK4nlS\n",
       "qNMwhudFtF4974gsaURnhKlvfOZmaUfSD7IJpEsBxp52aVQc2jWsg8vNaQlIdrYbFxYrlBhlZanP\n",
       "owJqsIyzg/vLP9QGWfKT9hpDRmN5R8JPs5VSn8CCw5l5Biw324G466eJQ9BAVhxNBCfCllAOlqgl\n",
       "9Ls4yxresLZvHgQaZtDykm+BEx7EqEfqOIz/pBBL6oK1x9lYyRkRNn4Ka9N9v2jBMIx4HnoHj320\n",
       "keD0GX9fU+Rod6UjhoS/wv7y8oLU3C4C7PNFGqEqRwETJBiwx0w3GGtMRlsttLM/34tA6usrqX6U\n",
       "GPkEhFXzeH9hRozw9m38DtxKLz0GRkgeeKi1bu1P9FMBB9u9aIHkZVKGs2J/FESLQSjCBFGpr1KH\n",
       "pEQkwTKJ3RhxnxMhHaORnYJ4V9VC2heNEOQ2Fdid/xwV+2vokV75kvDTac5hSI/HxuNZZ/SSd1nc\n",
       "7j1Cc0XkNN9//QoawdNeWNB5259im3CgWx7fWLQwjKfdOPG5VZKs6zRZ2Gbh+beZGOSGr5I5S4ow\n",
       "S+RNhNT0bWpIqh4guXDbkGbrv5Ta8u4Y1Jjc7Otyu9wzC99wFZu6wgxBqFz/rsG739Y9iWezIVhn\n",
       "Sjtl7sPJkZ1YZzeLYPjSvzbqAYkA3gQdyCP5oNI1VeZJ4fzGb5LsxgmljHulLf4nMy9tayaO5N9i\n",
       "Ym8/CJ4Oat1rLu1eeIlCCV4Hz2RdzS22IqrDznLBodZ7ljDJKEl7sIA48/Kc9bVvlw6CjiomOfNu\n",
       "jSqYWligOhs2Qakrwk2n/j2ioX+c9TQdMq9WB92oEw572+1tXLYueqVXOijnt0YMQJZjVpMDQWVb\n",
       "2uihBRbmcJbR3GXTTcMf8TX1Mx28xb9Qnr5jdVEdzYgC+p6rPHgLMNxuXKoA8guWa7IgsqgmfpEl\n",
       "FrnRsABNy07xUyzq24rjESnLG2AAAA6QMVGmwLxxfIaKKBbNlJitllRB5yfb/iyaOJVygOKoRTcW\n",
       "Yeny+SfyNWwFM9vOB5LAI0rBZqFdnPkqpkFsQy+e/GdHRPOyCotEAqAAAt0ShSscfbJ7lVnROTkV\n",
       "bCjCDIXO6Pr4D/k4xyr3hieOxZDcSWNsR0TqL2fz1SmNap9P9UBETx9Tl15oCuShFgccv1InQ1oe\n",
       "UnrkYfepVfsqRdEJ08loUWxNK6qigmXD9rn0YGFb1Mjkof9YLb1T/l/ZRXIU3JSTeeh5L+U4e5fu\n",
       "nk0rQlbOH7ta39Yt+7J1AizhxacsoFRyy6xy8yR6YW37RYBgoMTa/jb/IAr5l9FGOX+/6EglYsRr\n",
       "gq54r5eE8O0BAJVZI00SwRuzj/XnhWaNUHZg+OgVDgsmk97CaEPXZff+sB5TuKK09+/e9lGifR8U\n",
       "JRwJDB3iAHn7/5mX9zLwQbV4ByHRLAYntQHr3reEE88jyiVJcIU6xhZ7TOZNkN4hgZ4gjC2L3/DK\n",
       "Jsj0EzEF/9lMonlJ1pNoVTvMa8BsvXTykENztzdPyeDKvteTttchJzjD333pO7VAB5EC/Tato0QH\n",
       "fL09+0c/h6SU3RHx/Z727M4KmkFKADPv3o/ghKiIfmX9qNoqD8O/b2944ueD7eisPbF9KTjjC8Ut\n",
       "3eCfJ5CHhc9EE4zBPhuX/DhR+3fW9hhBScnmpOcFzHP/8Dq6Cx8kJzJh2sTdJoys7DQuq+bWqz33\n",
       "TDunSSk9A1+T4NmjDcnxCc03+IdxnipEyoej4rf7+cSOyQB6eWAquRsYbldxjdoA1+F5iqAykhMk\n",
       "pWbDPozIiwfxgCZeI4O57PA8+x0spvaxhvaXEljm1CL3w+Fo5uB/oHWkWb4/zELlmtdeFOHrT9IN\n",
       "XT9kmlth5VF4xa6GdRYmrcHT9li9itj8tUvMRfpwcWxxhzwJzYpoTsKjGSZwAAADAAUIk4EAAANG\n",
       "QZokbEO//qmWAIg1UQgGNByBxD/QxJDDkWYs8/8rfIdiVyHKswW414+XLjMvBV2NqaNfK8uxZMqG\n",
       "1co+wvkeiELuOiexLmgD+oyO1gAfbUUQ9RGdc+z9RFSFQOEYUvJ0UP7CfSquhbC+ncBdW2vSvHyf\n",
       "gtyFhQWjrEkGsGy6LTutz2Y4mbgJPZhVk90Ak/SUUB5zmMJ3apRckbIZSJ6N06XXTNlU+n13caBx\n",
       "REeBcqwIDQjSw5V1ExiTw4f3XMOKuMP3QSZk+F0W/P7Z3lqbyNe0U5uYA+PWw+vXR9UehnaXC0Xn\n",
       "1YX9PdmfswsdvT8m23m2MiQr7rmbInaP6g6T2zwCmeJWQXq8wnT/3EOebtryzd/uSKQL/CDGwfVn\n",
       "VJVklU6goY1xQVQi3PzuaUo5/xtiG/9gjlSO20REBjMIGnzyJWzmu0q+4VXGLtmS0kO4cxmZg2/b\n",
       "BIqaFezKul3ULNZs8iQJAfi+VC3OU78EYaCSHm0HzdomKTiQF6R+td6d9dJhAqjHBDwu+FKsqThw\n",
       "P7Zu5/6w6lkp2ozg238LJG+WWQUGEyFDkOoOmAdsa7QqZVHEuXQ26gygL9sELOuWV+XZZpgYEeJr\n",
       "c9Im5m0nRs1o4kwIK3Hp4thn6obLJWZ/cpfRceGUrBpJS6HHtXfPipxeqt9Mk42Qt8zl+oL4jo6I\n",
       "o6uSf4qJ8MxQvT8RLxcEWso+yzu6DMY0SXRw/UrxPHgx6Ohkrjh5SA/zipGJOJxgJ4f5OxkpSNxe\n",
       "mHVFb8AcNNHhDacwhVGxMEDTxHgmfO5qs1yjp5J5V87iBOvq4/GtcmMVNVm2NN6eqWoJ3/t52bdu\n",
       "gvxU/onCzW45tBQbLjKRIlCjPvJ8pH41PzllaZ/CmPmu653Fsnv0ZtS7KAz2YZfVaM3jgtNaftOs\n",
       "pAcoaW5D6DgSYi3FA4BQcbZ2hxs6HT0WmL3qOEvRkPti/+/fCLuiwXFo245Rw6MoNZFvIy3madnU\n",
       "55MuIYPppzOtXT7BaVQTv0UxEXVH6M60v/99Uu4mOAp4WlXaKzEcn5t2WN6YAX84TGLzvKmu1YLM\n",
       "2cDwYFbVJMXrHkakIvs8oUN4XXX4H6G+PBMCD8NZ+n5H7vH7VN1wEAAAAXBBnkJ4hn8A7fKWpGBw\n",
       "Ez9rRhysZ56wvmi4ANjEPEA7PJHNkXmud+e1/fajsfJ9uGlU4L1dJnSUWXnCmxsnBK2acSdVhUQZ\n",
       "kJC0oHwdbnfYgGZfEbn9LHqeyA4XMG3iYSiBpmbRhTYk6JpUD2N5SXIsp6GpsIYaYMv7sSxNf4Tt\n",
       "XPBqxIg2cNEx6UVNlj9E+RyfGC89jfXHBbZ55WeHgmL8yxjUwrKmV+FgB8jNqHqLBBAGkSlz2e15\n",
       "pceiBfFcrdAZjn/6Lv1uMM63wtYVJLkleqN7QADly8jtmS1JROap4ZVUKVX5miF01OQso64FCszL\n",
       "lyGQhbFJ4Qs85orcsMK/rYxXnd74soWVWPTIa18kNZ8tKhf2uE5ybdthiVMCZ1wiPUQZEOeZCLMq\n",
       "sxArlJ5DCYYQo8VWGlM10+dvq9hyFEuLbhr0QG/3aowBtEa0JAVwpeEi97xmJzzL9ldByGP328kg\n",
       "0AAAIB1DLPYRjuNfFQAAANQBnmF0Qr8AFrTDnVFsdq5hcIxR44WioxtCGgAfiHDygoOeimNME4bc\n",
       "TgV5lwRN+RraglvcB1NcH/iJwa8IcIDuvpJ9AyU/4yeuf0kTX1TQxw4Q/fqvUkuMkjlduLqST/Eq\n",
       "kZOFalDGqbuDiaJZs5b5OXoPe/d/QRfng17Md41RFU28lIBJ/ewZpbY/sJKnsW6euP+Q/5oWN7As\n",
       "zCU/rR5AoeFvqTiLazDltXLDHVjZxigYKutQAZrKLjPaRteRv0JAAACwU4EE41jzit1K2OsgJ9Cv\n",
       "8AAAAW0BnmNqQr8Bu3S3nShzc5AC1u67qBn4a4+N3YJ8RARMfMRupHPDC/yLCB6Y/AOrnGjqf9qp\n",
       "qdwf81s9W38k2/qlN46NTeYeQoxCHopO1HLs9DiP3mWa4M8AqZoZQP2s7aioi4ab9QkgA8qPdl7v\n",
       "qex98GnxGlRIdEeykM4MOa/qMxgJ3wo920UPSV5IVayCkMVBauvadyBLhi50Ib322cdDwRGJutXQ\n",
       "Jvp1KWhP75vawPVdyxVEshOUsBQSn2iecirprMnhMNWAioi5EVL767385agawvefljPhz7hRxe7f\n",
       "BYgxOH9DG2I1FZGGl+HKYN1qdyTQpJypdNLKdRbPVsv00oVJf8DpL/oj+SRRE5sjxQ38zDreQxIB\n",
       "Jw0PaEtv2yeR61OQ1HJRpkKoiM6Kb7EhbHUGdEP4HXbuc4qaT/054orQDmIOspa9OHkY45xCjLTF\n",
       "liioahedLjcXVA7Yv3VmUIabGX2aGpQ6p9txCQAAAoJBmmhJqEFomUwIb//+p4QABWNpagGsQjJn\n",
       "jB8F4skJyeXgcWH0TLw8qHzA+gAkACg0hS/8xiDnzIZfkdwTJWPqo7dDESAX7RjraXLFiFDcbjF0\n",
       "SzCyTbDZiI9AMfHDySRPKrRMUNFXeY57FAWLVnP/HLpfBvAxnp30n/fGQHqyY3QLt4NGBtuUJfby\n",
       "NAkWwhFIP6KQYwRnUMAI5E+R6Fh3Ow1vk3XUPJ0qCB8DoBRYlMyPn7QHiJW5zGv0Q5jC8UGIKTUa\n",
       "U2JKo3NNMo1GGh0NBWOLBrWDCqLmWj1eqMEJXpKOihN84JcZ6e/gkaGdI6gIFE/H7W2ODXxCudD9\n",
       "ipkU0he9n4q/V1WZqZ7yaIngUXUMRki8XrJ09/bYuE+gn5CZHvlphB+zcDfwVp2xeh4PpFAcQjeK\n",
       "MLdSHQlIVJ3EkXpgf+6ieHqXSVMFgvFJBn0z7z4klbjX5w9Gaon8E7QrmP4R//znOj0iOJLuFWU4\n",
       "QpXjOE7z4ZlgU3d0DhE3bQYaWnbaqKSfzN29NMZkfgSVBGIOGviW28X01LWezIJ3U9grxggq+auT\n",
       "F6AkHGcl15TGPJQ9d74v2BaK/26jp6Ziym9mVJgSdSxC/jSEm4Z5emmeHNgWHuHiBqKiazOyQvlV\n",
       "ziI5vvTwiwDk5nPDveb9YjC2/1moRHqG7d8Y/WVTmqncJY+e0vA5NMHD4tmNXr8V8aCKL1Vc2fco\n",
       "nor1joEHo9M2P+1PvHe4DS6MUFVI50pzzPwI56S6s6HVnG2jhyv89rU8cYV9BQMRHrF47I8PHneA\n",
       "z2auDSI9+K7eLqixy0AQxv0NnrvrGV7VsbwkALIOfghxldkAhalTE9Li4IpA+SEAAADuQZ6GRREs\n",
       "M/8A7gN4hOGKiOljRSQAOLSnN/xpAJdNtkObrUJXYuVR098GmWw1S/stUzH/vL+T1/2kZdGuXCpu\n",
       "YDcJpJ+Gz1esE0dNq+hhmud7Yp7ezPP+O7YU6CtLuf/gaCj9PsaOrzpAeqXUgyIz1cdW//1d1PYf\n",
       "CFaeSBkFVlCcHx6ion8+9UKxrvhjvOsGFrjV0gQMQ3dBrUu33YrbpMcdKZJGvoGnIeWdMwhzkR5q\n",
       "6TEbqrRZ+0mVdbdEu0CNT0kaHG0ZhVZGJLD6g5rPe7O4FeZaHFg31hQFAxwcYP31rZIX14QgspyV\n",
       "R/sdaQAAAQEBnqV0Qr8Buv6yOaM6eOVJGS5UAN0TbEadY/9l9gEOywOqKK1HS15s9tQwRAnXIoq5\n",
       "4FSipzGHUU1NXpwRHYVgXXqrW+6ftJYPLCoVx9qQR1XuBySz+boudU59RvK0XjtCDTgjC9Y/E5Qv\n",
       "JwfNmoJ8Q/QXig2D7hEuao6h7ULAE0PPgyJxIsWbUvWrwdBngFhNK1/iOXIiRTv/fc/WNzIGxrwA\n",
       "AAMD82oeLM72FdN2kDIiRREpcTwwZG1xYfZtBOF3ZCpC8kwSoI2bsP09pHQfk3hHM38/jfGbXZMq\n",
       "gGMA9EU9WHKUJ1G8vPIEsqRhiMUD1qKfvsV/1AaKND71eZ8Y6wAAAHwBnqdqQr8Bu3S3pxtCqbAX\n",
       "HnaCgAfmZL+WjtIMgLqrq7XnKBIEvlfcsK1yOpA/HHEmYyK/wBb8th0NkD7+J9wJH3JgtGplXxhc\n",
       "qoPoo/EO2HWOIw96sdauRVaYxnQOi75VRhBLhqsUYjNtx1KwIYYKFdAPpUfwhvIGenuAAAABBkGa\n",
       "qUmoQWyZTAh3//6plgACt0W+4O01AC2C36MwVJo+gQMEu1ZzZlIDLVOLviidIonXLunxl5F1HZM/\n",
       "N24ruTETc2P9kKXHA9ScmwpF2HKkY0JdMdVm9jRjNwRoBRSmhcI/vz2znq69rupHDTzr4K2h5G5+\n",
       "z1RCj4458ZhDuD78d3pN+vmzwu5YtXuUu5d7ccbRpJIgP28dk7dHrCY3s2l+WW8JZ0QizWbZEWA7\n",
       "C/pYRGbnhwncJqYhf6qoWLitL3AU93ftfeT98/nHqpPCQaS3zRWOWmohEG8K3I2rr4u74c94Lsol\n",
       "IF9o3T77rjNohqfHxu8cXA86ntOk1GwwbkUfnztoUvQAAADEQZrKSeEKUmUwId/+qZYAArp2gzUA\n",
       "OaF6n7Vw17gFXvya4ZHx8La4nfo7liI+Nqs/pysn3qcbAuHaGzPstNgoE35O9wYLy18pnZJN3L91\n",
       "Wkh0VTdP+DwnxGH7oQo4RPlo+lhiyulJFTGIOSHnKWbhtV+Kk2XuCUrsD3EbtbEkVw5z7bczdH9l\n",
       "lcybtXUgJoOpTeulvD9Q18UiJ0evbgFsWveK94WL3O+xpkBpUE9PoPtqAKM84rWajVC9aXz3WX4B\n",
       "ngbj4QAAARtBmu5J4Q6JlMCHf/6plgACt0W/ZCqgBU2K6J2H3wiWF2r8KZ74Lj2CH9kH4NLl00zo\n",
       "SCZ/5ZOxWmSAZTnGAP5Mtxtaztt9HlmR+LugWtbI59ALJd0uj5+RAmMwd/fYeu8e5hGWn4VvmTfd\n",
       "hRfaMwtuabow6/t45gx3NNnc7AoMLeF1lC2snegC5xFIfkilX2XqkNbiJEDqi+r90FpwdBLlhb7G\n",
       "n9z30Q1TRGZKVJ8OkT29la3jGsZJ2C2kRgVC70AGNPcqoRZFidW0HH+KCZxm/pgVEFnG8i6/cwA/\n",
       "ILq5tB+WZmJwG8t0433H6lN+hv8h0ato+XfUy1GTqK/gAgQr1ONhJeuwk9qrHIomstxDcnSyO4Wq\n",
       "jmB4tJd8AAAAaEGfDEURPDP/AO30LbsNpHPWABdBuIaUlW1PzGTrrewk7j8ryhIahpY+ufBEsikd\n",
       "tXEVDhRV/tGssByS2P6PWLHNFDsYVNQOBKLpxcQyZCEP6KdTvlMCioYb3B6HVyNjDc6+hMgWJQig\n",
       "AAAATQGfK3RCvwG6/rI79hNCoALX2L8Y3m4k0/8HODnAW19X25nmxdPGP0xPlaaePp1MYmZgjtam\n",
       "AVJbt+7ytf9CS6sCZf2fPcGNpMWvs/8hAAAAMQGfLWpCvwG7dLenG/jbVy0cLSAE1vSUHgeC+Isq\n",
       "RI+sQGPJBmR1G2k3xdGCTktrh4EAAACbQZsvSahBaJlMCH///qmWAALN2YUEeqjn1IKHaby7p1iH\n",
       "f//neAsur9fXyEt78kDNF5J+IFBL9NSTk3TPyKL4vWuFe/stb47Cia/Pl9LKYUjkNg8nL7W7Osp4\n",
       "j1Eehoi6eL2L6MtRGq/T4JazevP7aQd3/1+9ynzQba9+lA5stiwfOCa4SKZ35Qs6wwJmMUiN7P9H\n",
       "6urOKuVkhLkAAADnQZtTSeEKUmUwIf/+qZYAArp2qy0AImrEouCwnPqpUjEqsBP4mn2MGO28pXOw\n",
       "bOuTkgTKGoh5qjSFLfrjshRJQF3VZ7sP7vq1T1nB9q1fQl/aWXgwlmsZWjqNmVcIz63ik47wXz/V\n",
       "p5bNKeRxpBILny69NvI/e7NTEyoZ1vlhu72+Z8ct2XyrOjsTMEMrkVy/xR99l4a/CDU8oj+47uwf\n",
       "8xfhGzq1h+YpiZCtdLit3Oi3tmJayLPDFmgdq8s3MqIeJzKFuG25xeoAfvjy9pba/YqBXPGf9KiO\n",
       "KFI8Xvh4AALwy4jzwJxeAAAAWUGfcUU0TDP/AO30LbsT5fzqt2AACdr/Q4g7eg+NAReWyY653NXk\n",
       "kvtU5DsCadGTU3493w4gvRj5KpaqnEqvLEnpKKlbaIFfppLujgp2flf/IgIUk/wJ4nCgAAAAKwGf\n",
       "kHRCvwG6/rI2fA83SABMy9368Yjm5ZG9H9l5T+d6vNwd44QI8DXLquEAAAA3AZ+SakK/Abt0t6cb\n",
       "+OPoiYAJe9PyERuCz1pDKivsw9ffg8oLyNL3lVqlIxxDHjpBMQ/rI2GwEgAAAMVBm5dJqEFomUwI\n",
       "f//+qZYAAqZSfolABuJmrrVCd1A11uWiAiX70S3vYeMxuVeyeGra5lDC+jxcp6c+5J3JIFZuN+Qm\n",
       "M5RKXHtFo98UVd4kgl+Kg+K+DEkJ4AGZ6ZMOIaqqSIK7KC79b0fagH6rIDiTN3TofpTtFSzZ37fb\n",
       "14Cfl5krZ74OGqBbOI0PvTos3yCcESEvxvlWGwX/3tKEPuzv0d1RXJccAA2gbtrrrXED6501Vz1Z\n",
       "CnFOoNoJTMut7sXeNN5psAAAAD5Bn7VFESwz/wDuA3iRIyO1wsD23OUuABNWRxT0iBJCebEi+vFb\n",
       "AuFhj/edVnVTp65ULbiCbviC/5V2CastHQAAABgBn9R0Qr8Buv6x/hVcUcvozakCYjOr5G8AAAAo\n",
       "AZ/WakK/Abt0uAk3RjA55AB8HjKNWWKaLMWKkRcZwg9hgLASIUcajQAAAO1Bm9tJqEFsmUwIf//+\n",
       "qZYAArddv9f6wwA3yqPr/gqo5aecipKD162PJh4tS9q1A3XwNTpAsaXWftz/7o/SdPANeqzz4Agn\n",
       "60LTVbcBp/y1vF9+nB8+dpSVC3U0tu6sFoq7GX8Wcu2rFeb2g4bHrnoj+614quWYkoWX3JTkcJNc\n",
       "QJf+rNuomDU/Fa+Vwxf4BjAR4aLV4WP18RHNFA2BhaS+cxMt1JgX2Oc6LF0Xg1ez+1n6ColeM5VC\n",
       "ogVS8pVg86oe3VFgoj6XUPjmq1WpGgVrIxI4wcjxhIMd6wH2x+uhw19j/5FZZKJD3aZ5ScEAAAAu\n",
       "QZ/5RRUsM/8A7gN4kSdplspMCYdMI6AuvimAIvWCyNzAgwC7JBkewc5oMWHf4AAAACMBnhh0Qr8B\n",
       "uv6ystfaQxuVMAFuTQjWPta7yjSzu/NefRKGKQAAABwBnhpqQr8Bu3S4CTc/k701prbph5Pi2dtJ\n",
       "28aIAAAA1EGaH0moQWyZTAh///6plgACuoLJV0ARf1f/9H+dIruKeUMW+CE4FXb+uZcdZWk4/RdQ\n",
       "+mwIoOq4VxbP5eebSzS3/8DYlDcEGtavKCwJQdqJyZGqnpZlh9O5GCX5CEhCpxtUTebqM7Gs2IkN\n",
       "Ytqdwg15hUldazLOg1xxwR8IFf7ekPn0cSmIgn9ox5JlorYhyXgR9dm5QEBM2U64dwZkL99Qlatc\n",
       "RDKMnX80HYS0To4HSvCL5UgVjV4GhZ3Ce7gAf7UqJjXVn9QA+nzuRtbfhaWtpPGZAAAAL0GePUUV\n",
       "LDP/AO4DeJEnaZbAsTSXngxbngSVSASOJjgAAXE/g55AzUKYKSDTYEghAAAAJQGeXHRCvwG6/rKy\n",
       "19qj9im59lOn2jwhgAfzu3isxOklPhgcEEAAAAARAZ5eakK/Abt0uAk3RndHYpIAAADXQZpDSahB\n",
       "bJlMCH///qmWAAK61UsEgDhRJXR/JNw81DdXZAn14i/QfNgVTDtl4ns0baodIg5XdOSxlkmhqAvP\n",
       "IPEF7xRlZYTd1VY1iuE9+c9CTovsS4iHDuoiqBb4C0DTWKUacB3Yl08Dvr/19N45JxkDO2u3PUis\n",
       "FIvd2V90noZhDfvJbIj3DHepjgR97+ie5xc8VGMM4/pvwpmtsssCocgASbjxnZUkxT1Nwuo05sIs\n",
       "54GNeUQ9TG1l431kdDKM9/GevTpG7nnIhNIFVFCDn4U4tgejOpkAAAAjQZ5hRRUsM/8A7gN4kSdp\n",
       "l71nvWCggAW794rn1xqHS1pcU6oAAAAPAZ6AdEK/Abr+srLXrs7pAAAAGAGegmpCvwG7dLgJN2rt\n",
       "Cq2HVaWNtlLKgAAAAIVBmodJqEFsmUwIf//+qZYAAqbHSvoAcLAqWgeqP6WvPE8hOsp4wyj665R7\n",
       "jP4sG3KP5JppnXk1XIeEXLPIJhfzXrPYGO4WYFmuSk1MuLeu2s4qbxFH35pOGLREZ2zbIAghk13K\n",
       "48V/zNqwCfdYnkSk4g6ntZFQyzD31wrBs3LPGR6M2m01AAAAFkGepUUVLDP/AO4DeJEnaKJit614\n",
       "KSEAAAARAZ7EdEK/Abr+srLXw80Ov0kAAAATAZ7GakK/Abt0uAk3ScoStMQpIQAAAOtBmstJqEFs\n",
       "mUwIf//+qZYAArjW16NADoXnMVn4L57lr/GLz/L8UdKcrVCZkjam9C7Lwb+7hMg1yTNlhlKcOjDh\n",
       "jgwBhURwicXE6GxXmU3ogML72Pv52C6pMEPPkmeWuKBGxHsroZeW16lZlQft8iDVW3vPJZD43CDb\n",
       "BOoxg919kjaDxq4xnjMIZ5y1RQXQeM9w9ivRZqJIDLvbVtx2vYEDgpLM8gXg/f4l92E4uqqv5fv4\n",
       "CyuUCs7D3H+aj9WXTuPuWudELVztX5ixcjADAUyl5EKy2guRwY+RqbtZcfaD/1eccImplUn1BL1g\n",
       "AAAAHkGe6UUVLDP/AO4DeJEnaZbDgwFwlVcQwAlY964lqQAAABcBnwh0Qr8Buv6ystfao/3RJh1x\n",
       "xM8oOQAAABMBnwpqQr8Bu3S4CTdoXTCVTYtbAAAAfEGbD0moQWyZTAh///6plgACuNdJRgIRsXD0\n",
       "1JyDSeGmxsmcJLSruAcxnKAau2lnQLMYh4WUYKQ4sOyU19gSuU3jc2b4v0DB5HqBg4PPWes0/ykP\n",
       "/o28quljhaCKS22NSHWs3WY2NhSvr91yesu3Ufgc0s6L54palYI0V8AAAAAWQZ8tRRUsM/8A7gN4\n",
       "kSdplslrPt4aSQAAABUBn0x0Qr8Buv6ystfao/pZztfr+qEAAAARAZ9OakK/Abt0uAk3RnWuJlUA\n",
       "AACCQZtTSahBbJlMCH///qmWAAKUw8AygBzqaAEvQDaicsLc+EbpIDzyxYXm19pwqr8OHFDw0yVz\n",
       "tXsnPAaRRSxFjUnDz91J2dIHAYojIE+xJH3HVd9jmhXfj3faukNh//GVxHZU7UR5duHFe2mBM9iI\n",
       "ooKzeHc64utc8u2/N9D58/RCTgAAABpBn3FFFSwz/wDuA3iRJ2mFpp4Fajqk/UubgAAAAA8Bn5B0\n",
       "Qr8Buv6ysteuzukAAAASAZ+SakK/Abt0uAk3aP2Gh++YAAAAWkGbl0moQWyZTAh///6plgACt9TV\n",
       "AKTc0cHWhCwWqKLgNXUoDw1Ixz35g+K3Fy1EIE+RnLA+1aikCaAfhs4hD/eUI6Zlk/CG/as7IRTF\n",
       "hllCAD8Q1iN6S9fswAAAABhBn7VFFSwz/wDuA3iRJ2h6b15Hpqf42wMAAAATAZ/UdEK/Abr+srLX\n",
       "xFzovoVOqAAAABIBn9ZqQr8Bu3S4CTddQxc9E5cAAABUQZvbSahBbJlMCH///qmWAAKT1vrAHMj/\n",
       "g2SNKF2mqL184drYG24BXeLIB2zeySBvr2QmYDT1/hy5mMX+OL+ceKsGTqUhTyEKBn0ik+CIZkzt\n",
       "yZ/hAAAAGEGf+UUVLDP/AO4DeJEnaYM5gJPvvIQs+AAAAA8Bnhh0Qr8Buv6ysteuzukAAAATAZ4a\n",
       "akK/Abt0uAk3aF0wlU2LWwAAAGxBmh9JqEFsmUwIf//+qZYAArjU1NAKPsSzXDNFz4U3RXr7sm0A\n",
       "PtwM8Bd4O2mFFQwyQde+ipSZnmnXy1YZ+Hgd9ibTl3FCmQIdlZ3Oxc5sKPW9uWJu37hdYUcXuKEh\n",
       "qcppFJgoo+sv5JQWqRcAAAAWQZ49RRUsM/8A7gN4kSdoTFpPKVcRgQAAABIBnlx0Qr8Buv6ysted\n",
       "JofZD8wAAAAQAZ5eakK/Abt0uAk3Sc+75gAAACZBmkNJqEFsmUwIf//+qZYAApPY4cAK30BIvstn\n",
       "SESfEz5jN9ikXQAAABJBnmFFFSwz/wDuA3iRJ2jCSMAAAAAPAZ6AdEK/Abr+srLXrs7pAAAADwGe\n",
       "gmpCvwG7dLgJN1BJGAAAAGlBmodJqEFsmUwIf//+qZYAApTGTpQBWNWtl+jqpap+bpr4mGhgseEu\n",
       "2TZd+PavljY6aR6WUoPoCBJ4qleRUJWCp56Bx9mV2RKde0yGePGCzPGiHV/G0QuTW2horF2365qf\n",
       "nH5ITWBNq4EAAAAbQZ6lRRUsM/8A7gN4kSdpiDmAQDim2/F+AWpBAAAADwGexHRCvwG6/rKy167O\n",
       "6QAAABUBnsZqQr8Bu3S4CTdo/TH6oEUvGBcAAABjQZrLSahBbJlMCH///qmWAAK3020Abg8whZx0\n",
       "pxd/+/5bNH3HwZeTyUgu6QnJlKvtYhC7NvBIlMkQP5Kd6BPQ/ZEKhw7Q5BlM35yuc8Tc1WK4fbao\n",
       "ldtFQKpfkb1vnMtzvXlQAAAAFkGe6UUVLDP/AO4DeJEnaZbJayHI3TAAAAATAZ8IdEK/Abr+srLX\n",
       "2qSgjOGNJQAAAA8BnwpqQr8Bu3S4CTdQSRgAAABhQZsPSahBbJlMCH///qmWAAK3020AUG7K88Hv\n",
       "5JmF3BE+btcpngBlDgR03gltY9JDZTQPczdBvawHRMSiwy+1XUCxZ7r/yj/Nv7OwgEvjBpxNg/mN\n",
       "oE9th64TtGcpa4MrOAAAABhBny1FFSwz/wDuA3iRJ2mWw4IyWwr++EEAAAATAZ9MdEK/Abr+srLX\n",
       "2qP6WLPsHwAAAA8Bn05qQr8Bu3S4CTdQSRkAAAAVQZtTSahBbJlMCH///qmWAAADAPCAAAAAEkGf\n",
       "cUUVLDP/AO4DeJEnaMJIwAAAAA8Bn5B0Qr8Buv6ysteuzukAAAAPAZ+SakK/Abt0uAk3UEkYAAAA\n",
       "I0Gbl0moQWyZTAh3//6plgACgnk9hHoA3AAKmUX9Gir1G1K2AAAAEkGftUUVLDP/AO4DeJEnaMJI\n",
       "wQAAAA8Bn9R0Qr8Buv6ysteuzugAAAAPAZ/WakK/Abt0uAk3UEkZAAAAFUGb20moQWyZTAh3//6p\n",
       "lgAAAwDwgQAAABJBn/lFFSwz/wDuA3iRJ2jCSMAAAAAPAZ4YdEK/Abr+srLXrs7pAAAADwGeGmpC\n",
       "vwG7dLgJN1BJGAAAABRBmh9JqEFsmUwIb//+p4QAAAMB3QAAABJBnj1FFSwz/wDuA3iRJ2jCSMEA\n",
       "AAAPAZ5cdEK/Abr+srLXrs7oAAAADwGeXmpCvwG7dLgJN1BJGAAAABNBmkNJqEFsmUwIV//+OEAA\n",
       "ABxxAAAAEkGeYUUVLDP/AO4DeJEnaMJIwAAAAA8BnoB0Qr8Buv6ysteuzukAAAAPAZ6CakK/Abt0\n",
       "uAk3UEkYAAAH1m1vb3YAAABsbXZoZAAAAAAAAAAAAAAAAAAAA+gAABOIAAEAAAEAAAAAAAAAAAAA\n",
       "AAABAAAAAAAAAAAAAAAAAAAAAQAAAAAAAAAAAAAAAAAAQAAAAAAAAAAAAAAAAAAAAAAAAAAAAAAA\n",
       "AAAAAAAAAAIAAAcAdHJhawAAAFx0a2hkAAAAAwAAAAAAAAAAAAAAAQAAAAAAABOIAAAAAAAAAAAA\n",
       "AAAAAAAAAAABAAAAAAAAAAAAAAAAAAAAAQAAAAAAAAAAAAAAAAAAQAAAAAGwAAABIAAAAAAAJGVk\n",
       "dHMAAAAcZWxzdAAAAAAAAAABAAATiAAABAAAAQAAAAAGeG1kaWEAAAAgbWRoZAAAAAAAAAAAAAAA\n",
       "AAAAKAAAAMgAVcQAAAAAAC1oZGxyAAAAAAAAAAB2aWRlAAAAAAAAAAAAAAAAVmlkZW9IYW5kbGVy\n",
       "AAAABiNtaW5mAAAAFHZtaGQAAAABAAAAAAAAAAAAAAAkZGluZgAAABxkcmVmAAAAAAAAAAEAAAAM\n",
       "dXJsIAAAAAEAAAXjc3RibAAAALNzdHNkAAAAAAAAAAEAAACjYXZjMQAAAAAAAAABAAAAAAAAAAAA\n",
       "AAAAAAAAAAGwASAASAAAAEgAAAAAAAAAAQAAAAAAAAAAAAAAAAAAAAAAAAAAAAAAAAAAAAAAAAAA\n",
       "ABj//wAAADFhdmNDAWQAFf/hABhnZAAVrNlBsJaEAAADAAQAAAMAoDxYtlgBAAZo6+PLIsAAAAAc\n",
       "dXVpZGtoQPJfJE/FujmlG88DI/MAAAAAAAAAGHN0dHMAAAAAAAAAAQAAAGQAAAIAAAAAFHN0c3MA\n",
       "AAAAAAAAAQAAAAEAAAMoY3R0cwAAAAAAAABjAAAAAQAABAAAAAABAAAKAAAAAAEAAAQAAAAAAQAA\n",
       "AAAAAAABAAACAAAAAAEAAAoAAAAAAQAABAAAAAABAAAAAAAAAAEAAAIAAAAAAgAABAAAAAABAAAK\n",
       "AAAAAAEAAAQAAAAAAQAAAAAAAAABAAACAAAAAAEAAAQAAAAAAQAACgAAAAABAAAEAAAAAAEAAAAA\n",
       "AAAAAQAAAgAAAAABAAAKAAAAAAEAAAQAAAAAAQAAAAAAAAABAAACAAAAAAEAAAoAAAAAAQAABAAA\n",
       "AAABAAAAAAAAAAEAAAIAAAAAAQAACgAAAAABAAAEAAAAAAEAAAAAAAAAAQAAAgAAAAABAAAKAAAA\n",
       "AAEAAAQAAAAAAQAAAAAAAAABAAACAAAAAAEAAAoAAAAAAQAABAAAAAABAAAAAAAAAAEAAAIAAAAA\n",
       "AQAACgAAAAABAAAEAAAAAAEAAAAAAAAAAQAAAgAAAAABAAAKAAAAAAEAAAQAAAAAAQAAAAAAAAAB\n",
       "AAACAAAAAAEAAAoAAAAAAQAABAAAAAABAAAAAAAAAAEAAAIAAAAAAQAACgAAAAABAAAEAAAAAAEA\n",
       "AAAAAAAAAQAAAgAAAAABAAAKAAAAAAEAAAQAAAAAAQAAAAAAAAABAAACAAAAAAEAAAoAAAAAAQAA\n",
       "BAAAAAABAAAAAAAAAAEAAAIAAAAAAQAACgAAAAABAAAEAAAAAAEAAAAAAAAAAQAAAgAAAAABAAAK\n",
       "AAAAAAEAAAQAAAAAAQAAAAAAAAABAAACAAAAAAEAAAoAAAAAAQAABAAAAAABAAAAAAAAAAEAAAIA\n",
       "AAAAAQAACgAAAAABAAAEAAAAAAEAAAAAAAAAAQAAAgAAAAABAAAKAAAAAAEAAAQAAAAAAQAAAAAA\n",
       "AAABAAACAAAAAAEAAAoAAAAAAQAABAAAAAABAAAAAAAAAAEAAAIAAAAAAQAACgAAAAABAAAEAAAA\n",
       "AAEAAAAAAAAAAQAAAgAAAAABAAAKAAAAAAEAAAQAAAAAAQAAAAAAAAABAAACAAAAAAEAAAoAAAAA\n",
       "AQAABAAAAAABAAAAAAAAAAEAAAIAAAAAHHN0c2MAAAAAAAAAAQAAAAEAAABkAAAAAQAAAaRzdHN6\n",
       "AAAAAAAAAAAAAABkAAAKuQAAA0oAAAF0AAAA2AAAAXEAAAKGAAAA8gAAAQUAAACAAAABCgAAAMgA\n",
       "AAEfAAAAbAAAAFEAAAA1AAAAnwAAAOsAAABdAAAALwAAADsAAADJAAAAQgAAABwAAAAsAAAA8QAA\n",
       "ADIAAAAnAAAAIAAAANgAAAAzAAAAKQAAABUAAADbAAAAJwAAABMAAAAcAAAAiQAAABoAAAAVAAAA\n",
       "FwAAAO8AAAAiAAAAGwAAABcAAACAAAAAGgAAABkAAAAVAAAAhgAAAB4AAAATAAAAFgAAAF4AAAAc\n",
       "AAAAFwAAABYAAABYAAAAHAAAABMAAAAXAAAAcAAAABoAAAAWAAAAFAAAACoAAAAWAAAAEwAAABMA\n",
       "AABtAAAAHwAAABMAAAAZAAAAZwAAABoAAAAXAAAAEwAAAGUAAAAcAAAAFwAAABMAAAAZAAAAFgAA\n",
       "ABMAAAATAAAAJwAAABYAAAATAAAAEwAAABkAAAAWAAAAEwAAABMAAAAYAAAAFgAAABMAAAATAAAA\n",
       "FwAAABYAAAATAAAAEwAAABRzdGNvAAAAAAAAAAEAAAAsAAAAYnVkdGEAAABabWV0YQAAAAAAAAAh\n",
       "aGRscgAAAAAAAAAAbWRpcmFwcGwAAAAAAAAAAAAAAAAtaWxzdAAAACWpdG9vAAAAHWRhdGEAAAAB\n",
       "AAAAAExhdmY1Ni40MC4xMDE=\n",
       "\">\n",
       "  Your browser does not support the video tag.\n",
       "</video>"
      ],
      "text/plain": [
       "<IPython.core.display.HTML object>"
      ]
     },
     "execution_count": 248,
     "metadata": {},
     "output_type": "execute_result"
    }
   ],
   "source": [
    "HTML(anim.to_html5_video())"
   ]
  }
 ],
 "metadata": {
  "kernelspec": {
   "display_name": "Python 2",
   "language": "python",
   "name": "python2"
  },
  "language_info": {
   "codemirror_mode": {
    "name": "ipython",
    "version": 2
   },
   "file_extension": ".py",
   "mimetype": "text/x-python",
   "name": "python",
   "nbconvert_exporter": "python",
   "pygments_lexer": "ipython2",
   "version": "2.7.16"
  },
  "toc": {
   "base_numbering": 1,
   "nav_menu": {},
   "number_sections": true,
   "sideBar": true,
   "skip_h1_title": false,
   "title_cell": "Table of Contents",
   "title_sidebar": "Contents",
   "toc_cell": false,
   "toc_position": {},
   "toc_section_display": true,
   "toc_window_display": false
  }
 },
 "nbformat": 4,
 "nbformat_minor": 2
}
