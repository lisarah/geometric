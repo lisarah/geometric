{
 "cells": [
  {
   "cell_type": "code",
   "execution_count": 26,
   "metadata": {},
   "outputs": [],
   "source": [
    "import numpy as np\n",
    "import matplotlib.pyplot as plt\n",
    "from matplotlib import animation, rc\n",
    "from IPython.display import HTML"
   ]
  },
  {
   "cell_type": "code",
   "execution_count": 170,
   "metadata": {},
   "outputs": [
    {
     "name": "stdout",
     "output_type": "stream",
     "text": [
      "[[ 0.  0.  0.  0.  0.  0.  0.  0.  0.  0.]\n",
      " [ 0.  0.  0.  0.  0.  0.  0.  0.  0.  0.]\n",
      " [ 0.  0.  0.  0.  0.  0.  0.  0.  0.  0.]\n",
      " [-1.  0.  0.  0.  0.  0.  0.  0.  0.  0.]\n",
      " [ 0.  0.  0.  0.  0.  0.  0.  0.  0.  0.]\n",
      " [-1. -1.  0.  0.  0.  0.  0.  0.  0.  0.]\n",
      " [ 0.  0.  0.  0.  0.  0.  0.  0.  0.  0.]\n",
      " [-1. -1. -1.  0.  0.  0.  0.  0.  0.  0.]\n",
      " [ 0.  0.  0.  0.  0.  0.  0.  0.  0.  0.]\n",
      " [-1. -1. -1. -1.  0.  0.  0.  0.  0.  0.]\n",
      " [ 0.  0.  0.  0.  0.  0.  0.  0.  0.  0.]\n",
      " [-1. -1. -1. -1. -1.  0.  0.  0.  0.  0.]\n",
      " [ 0.  0.  0.  0.  0.  0.  0.  0.  0.  0.]\n",
      " [-1. -1. -1. -1. -1. -1.  0.  0.  0.  0.]\n",
      " [ 0.  0.  0.  0.  0.  0.  0.  0.  0.  0.]\n",
      " [-1. -1. -1. -1. -1. -1. -1.  0.  0.  0.]\n",
      " [ 0.  0.  0.  0.  0.  0.  0.  0.  0.  0.]\n",
      " [-1. -1. -1. -1. -1. -1. -1. -1.  0.  0.]\n",
      " [ 0.  0.  0.  0.  0.  0.  0.  0.  0.  0.]\n",
      " [-1. -1. -1. -1. -1. -1. -1. -1. -1.  0.]]\n"
     ]
    }
   ],
   "source": [
    "# dynamics definition\n",
    "numPlayers = 4;\n",
    "T = 10;\n",
    "A = np.eye(2);\n",
    "B = np.zeros((2, 1, numPlayers))\n",
    "B[:,:,0] = np.array([[1], [0]]);\n",
    "B[:,:,1] = np.array([[1], [-1]])/np.sqrt(2);\n",
    "B[:,:,2] = np.array([[1], [1]])/np.sqrt(2);\n",
    "B[:,:,3] = np.array([[0], [-1]]);\n",
    "G = np.zeros((2*T, T*1, numPlayers)); # 2 is the row dim of B, 1 is the column dim of B\n",
    "H = np.zeros((T*2, 2));\n",
    "for p in range(numPlayers):\n",
    "    for col in range(T):\n",
    "        Abar = np.eye(2); row=col+1;\n",
    "        while row < T:\n",
    "            G[row*2: (row+1)*2, col, p] = np.squeeze(Abar.dot(B[:,:,p]));\n",
    "            if p == 0:\n",
    "                H[col*2:(col+1)*2,:] = 1.0*Abar;\n",
    "            Abar  = Abar.dot(A);\n",
    "            row += 1;\n",
    "Rscaler = 0.1;\n",
    "Q = np.eye(2);\n",
    "R = Rscaler*np.eye(1);\n",
    "print (G[:,:,3])"
   ]
  },
  {
   "cell_type": "code",
   "execution_count": 162,
   "metadata": {},
   "outputs": [
    {
     "name": "stdout",
     "output_type": "stream",
     "text": [
      "(1.8550768319882614e-05+0j)\n",
      "[0.99863799+0.j 0.99863799+0.j 0.99984423+0.j 0.99984423+0.j\n",
      " 0.99996714+0.j 0.99994066+0.j 0.99994066+0.j 0.99996714+0.j\n",
      " 0.99997792+0.j 0.99997792+0.j 0.99998325+0.j 0.99998325+0.j\n",
      " 0.99998778+0.j 0.99998615+0.j 0.99998615+0.j 0.99998778+0.j\n",
      " 0.99998861+0.j 0.99998861+0.j 0.99999814+0.j 0.99999814+0.j\n",
      " 0.99999814+0.j 0.99999814+0.j 0.99999814+0.j 0.99999814+0.j\n",
      " 0.99999814+0.j 0.99999814+0.j 0.99999814+0.j 0.99999814+0.j\n",
      " 0.99999814+0.j 0.99999814+0.j 0.99999814+0.j 0.99999814+0.j\n",
      " 0.99999814+0.j 0.99999814+0.j 0.99999814+0.j 0.99999814+0.j\n",
      " 0.99999814+0.j 0.99999814+0.j 0.99999814+0.j 0.99999814+0.j]\n"
     ]
    }
   ],
   "source": [
    "# derive the step sizes\n",
    "J = np.zeros((T*numPlayers,T*numPlayers));\n",
    "diagQ = np.eye(2*T); diagR = Rscaler*np.eye(T);\n",
    "for i in range(T):\n",
    "    diagQ[i*2: 2*(i+1), 2*i: 2*(i+1)] = Q;\n",
    "    diagR[i: (i+1), i: (i+1)] = R;\n",
    "    \n",
    "for i in range(numPlayers):\n",
    "    for j in range(numPlayers):\n",
    "        J[T*i:T*(i+1), T*j:T*(j+1)]  = G[:,:,i].T.dot(diagQ).dot(G[:,:,j]);\n",
    "        if i == j:\n",
    "            J[T*i:T*(i+1), T*i:T*(i+1)] += diagR;\n",
    "S = 0.5*(J + J.T);  \n",
    "eigS, eigVecS = np.linalg.eig(S.T.dot(S));\n",
    "# print (eigS);\n",
    "alpha = np.min(eigS); \n",
    "eigJ, eigVecJ = np.linalg.eig(J.T.dot(J));\n",
    "beta = np.max(eigJ);\n",
    "gammai = np.sqrt(alpha)/beta;\n",
    "# gammai= alpha/beta;\n",
    "\n",
    "print (gammai)\n",
    "dim, dim2 = J.shape;\n",
    "barA = np.eye(dim) - gammai*J; \n",
    "w, v = np.linalg.eig(barA);\n",
    "print (w)            \n"
   ]
  },
  {
   "cell_type": "code",
   "execution_count": 112,
   "metadata": {},
   "outputs": [
    {
     "name": "stdout",
     "output_type": "stream",
     "text": [
      "(200, 200)\n"
     ]
    }
   ],
   "source": [
    "print(J.shape)"
   ]
  },
  {
   "cell_type": "code",
   "execution_count": 163,
   "metadata": {},
   "outputs": [
    {
     "name": "stderr",
     "output_type": "stream",
     "text": [
      "/home/sarahli/anaconda2/lib/python2.7/site-packages/ipykernel_launcher.py:15: ComplexWarning: Casting complex values to real discards the imaginary part\n",
      "  from ipykernel import kernelapp as app\n"
     ]
    }
   ],
   "source": [
    "K = 50; # number of times to iterate\n",
    "# run gradient dynamics\n",
    "x0 = np.random.rand((2)) + np.array([-0.5, -0.5]);\n",
    "ut = np.zeros((numPlayers*T,K));\n",
    "Jt = np.zeros((K, numPlayers));\n",
    "ut[:,0] = np.random.rand((numPlayers*T));\n",
    "Hstacked = np.zeros((numPlayers*T, 2));\n",
    "\n",
    "for p in range(numPlayers):\n",
    "    Hstacked[p*T:(p+1)*T, :] = G[:, :, p].T.dot(diagQ).dot(H);\n",
    "     \n",
    "xt = np.zeros((T*2, K))    \n",
    "for k in range(K):\n",
    "    if k> 0:\n",
    "        ut[:, k] = barA.dot(ut[:,k-1]) - gammai*numPlayers*Hstacked.dot(x0);\n",
    "    xt[:,k] = H.dot(x0);\n",
    "    for p in range(numPlayers):\n",
    "#         print((p+1)*T)\n",
    "        xt[:,k] += G[:,:,p].dot(ut[p*T:(p+1)*T,k]);\n",
    "    for p in range(numPlayers):  \n",
    "#         print(p+1)\n",
    "        Jt[k,p] = 0.5*xt[:,k].T.dot(diagQ).dot(xt[:,k]) + 0.5*ut[p*T:(p+1)*T, k].T.dot(diagR).dot(ut[p*T:(p+1)*T, k]); \n",
    "# drawGame(x0, u0)\n",
    "# print(np.linspace(0,K,100).shape)"
   ]
  },
  {
   "cell_type": "code",
   "execution_count": 164,
   "metadata": {},
   "outputs": [
    {
     "data": {
      "image/png": "[encoded data removed]",
      "text/plain": [
       "<Figure size 432x288 with 1 Axes>"
      ]
     },
     "metadata": {
      "needs_background": "light"
     },
     "output_type": "display_data"
    }
   ],
   "source": [
    "plt.figure()\n",
    "for p in range(numPlayers):\n",
    "    plt.plot(np.linspace(0,K,K), Jt[:,p]);\n",
    "plt.grid()\n",
    "# plt.yscale('log')\n",
    "plt.show()"
   ]
  },
  {
   "cell_type": "code",
   "execution_count": 165,
   "metadata": {},
   "outputs": [
    {
     "name": "stdout",
     "output_type": "stream",
     "text": [
      "[-5.66290752e-03  2.26882125e-01  3.25756495e-01 -5.79089875e-01\n",
      "  2.01069839e+00 -1.00682904e+00  2.74859792e+00 -1.31597379e+00\n",
      "  3.28313662e+00 -1.65203832e+00  4.14050190e+00 -2.37221441e+00\n",
      "  4.65662418e+00 -2.71621861e+00  5.97993585e+00 -2.88346129e+00\n",
      "  6.95998917e+00 -3.47027186e+00  7.91853515e+00 -3.87702817e+00]\n",
      "[ 0.05747208  0.57481797  0.28179292  0.04245395  0.15932621  0.1307143\n",
      "  0.81237813  0.28306204  0.09177716  0.48010766  0.2892302   0.85364412\n",
      "  0.54619014  0.41316591  0.62332698  0.14710586  0.40750217  0.4944745\n",
      "  0.32397833  0.89579079  0.09818983  0.71630819  0.09884203  0.28274701\n",
      "  0.36384933  0.39794333  0.31506697  0.49122001  0.89380934  0.35738576\n",
      "  0.67088606  0.33062799 -0.00717813  0.24384445  0.53669769  0.52137307\n",
      "  0.10188112  0.5845093   0.58280556  0.42551309]\n"
     ]
    }
   ],
   "source": [
    "xF = xt[:,K-1];\n",
    "print (xF);\n",
    "uF = ut[:,K-1]\n",
    "print (uF);\n",
    "# print (A)\n",
    "# fig, ax = plt.subplots()\n",
    "# ax.set_xlim((-1, 1));\n",
    "# ax.set_ylim((-1, 2));\n",
    "\n",
    "\n",
    "# plt.figure()\n",
    "# for p in range(numPlayers):\n",
    "#     plt.plot(np.linspace(0,K,100), Jt[:,p]);\n",
    "# plt.grid()\n",
    "# plt.yscale('log')\n",
    "# plt.show()"
   ]
  },
  {
   "cell_type": "code",
   "execution_count": 166,
   "metadata": {},
   "outputs": [
    {
     "data": {
      "image/png": "[encoded data removed]",
      "text/plain": [
       "<Figure size 432x288 with 1 Axes>"
      ]
     },
     "metadata": {
      "needs_background": "light"
     },
     "output_type": "display_data"
    }
   ],
   "source": [
    "def drawGame(xt, ut):\n",
    "    plt.figure();\n",
    "    \n",
    "    for p in range(numPlayers):\n",
    "        plt.arrow(x0[0], x0[1],  B[0,0,p]*ut[p], B[1, 0, p]*ut[p], color = 'g');\n",
    "    plt.scatter(x0[0], x0[1], color = 'b');\n",
    "    bounds = 0.5*np.array([[-1,-1,1,1], [-1,1,1,-1]]);\n",
    "    plt.scatter(bounds[0,:], bounds[1,:], color = 'w');\n",
    "    plt.grid();\n",
    "    plt.show();\n",
    "# originX = np.ones(4)*xF[2*i];\n",
    "# originY = np.ones(4)*xF[2*i+1];\n",
    "# dx = np.array([B[0,0,0]*ut[numPlayers*i, K-1],\n",
    "#                B[0,0,1]*ut[numPlayers*i+1, K-1],\n",
    "#                B[0,0,2]*ut[numPlayers*i+2, K-1],\n",
    "#                B[0,0,3]*ut[numPlayers*i+3, K-1]]);\n",
    "# dy = np.array([B[1,0,0]*ut[numPlayers*i, K-1],\n",
    "#                B[1,0,1]*ut[numPlayers*i+1, K-1],\n",
    "#                B[1,0,2]*ut[numPlayers*i+2, K-1],\n",
    "#                B[1,0,3]*ut[numPlayers*i+3, K-1]]);\n",
    "\n",
    "# print (dx)\n",
    "fig, ax = plt.subplots();\n",
    "limits = 1;\n",
    "ax.set_xlim((-limits, limits));\n",
    "ax.set_ylim((-limits, limits));\n",
    "plt.plot(xF[2*i], xF[2*i+1], color = 'b', label = str(i));\n",
    "#     originX = np.ones(4)*xF[2*i];\n",
    "for i in range(T):\n",
    "#     print(i)\n",
    "    plt.scatter(xF[2*i], xF[2*i+1], color = (1.*i/T,1.*i/T,1.*i/T), label = str(i));\n",
    "#     originX = np.ones(4)*xF[2*i];\n",
    "#     originY = np.ones(4)*xF[2*i+1];\n",
    "    dx = np.array([B[0,0,0]*ut[numPlayers*i, K-1],\n",
    "                   B[0,0,1]*ut[numPlayers*i+1, K-1],\n",
    "                   B[0,0,2]*ut[numPlayers*i+2, K-1],\n",
    "                   B[0,0,3]*ut[numPlayers*i+3, K-1]]);\n",
    "    dy = np.array([B[1,0,0]*ut[numPlayers*i, K-1],\n",
    "                   B[1,0,1]*ut[numPlayers*i+1, K-1],\n",
    "                   B[1,0,2]*ut[numPlayers*i+2, K-1],\n",
    "                   B[1,0,3]*ut[numPlayers*i+3, K-1]]);\n",
    "    # plt.arrow(originX, originY,  dx, dy, color = 'g');\n",
    "    for p in range(numPlayers):\n",
    "#         print(xF[2*i], xF[2*i+1],  dx[p], dy[p])\n",
    "        plt.arrow(xF[2*i], xF[2*i+1],  dx[p], dy[p], color = 'g');\n",
    "plt.grid();\n",
    "plt.legend()\n",
    "plt.show()"
   ]
  },
  {
   "cell_type": "code",
   "execution_count": 82,
   "metadata": {},
   "outputs": [
    {
     "name": "stdout",
     "output_type": "stream",
     "text": [
      "[2152.31715344 2084.51496708 2018.88326928 1955.35248486 1893.85526923\n",
      " 1834.32643686 1776.70289212 1720.9235622  1666.92933231 1614.6629829\n",
      " 1564.06912884 1515.0941607  1467.68618774 1421.79498285 1377.37192918\n",
      " 1334.36996858 1292.74355152 1252.44858884 1213.44240484 1175.68369199\n",
      " 1139.1324671  1103.75002882 1069.49891654 1036.34287065 1004.246794\n",
      "  973.17671463  943.09974973  913.98407068  885.79886929  858.51432505\n",
      "  832.10157347  806.53267546  781.78058763  757.81913358  734.6229761\n",
      "  712.16759029  690.42923748  669.38494004  649.012457    629.29026039\n",
      "  610.19751242  591.71404334  573.82032999  556.49747514  539.72718735\n",
      "  523.49176158  507.77406041  492.5574958   477.8260115   463.56406601]\n"
     ]
    }
   ],
   "source": [
    "print( Jt[:,1])"
   ]
  },
  {
   "cell_type": "code",
   "execution_count": 51,
   "metadata": {},
   "outputs": [
    {
     "name": "stderr",
     "output_type": "stream",
     "text": [
      "Traceback (most recent call last):\n",
      "  File \"/home/sarahli/anaconda2/lib/python2.7/site-packages/matplotlib/cbook/__init__.py\", line 387, in process\n",
      "    proxy(*args, **kwargs)\n",
      "  File \"/home/sarahli/anaconda2/lib/python2.7/site-packages/matplotlib/cbook/__init__.py\", line 227, in __call__\n",
      "    return mtd(*args, **kwargs)\n",
      "  File \"/home/sarahli/anaconda2/lib/python2.7/site-packages/matplotlib/animation.py\", line 1026, in _start\n",
      "    self._init_draw()\n",
      "  File \"/home/sarahli/anaconda2/lib/python2.7/site-packages/matplotlib/animation.py\", line 1750, in _init_draw\n",
      "    self._draw_frame(next(self.new_frame_seq()))\n",
      "  File \"/home/sarahli/anaconda2/lib/python2.7/site-packages/matplotlib/animation.py\", line 1772, in _draw_frame\n",
      "    self._drawn_artists = self._func(framedata, *self._args)\n",
      "  File \"<ipython-input-51-c5afcc55fbff>\", line 21, in animate\n",
      "    ax.add_patch(locPatch);\n",
      "  File \"/home/sarahli/anaconda2/lib/python2.7/site-packages/matplotlib/axes/_base.py\", line 2032, in add_patch\n",
      "    self._set_artist_props(p)\n",
      "  File \"/home/sarahli/anaconda2/lib/python2.7/site-packages/matplotlib/axes/_base.py\", line 956, in _set_artist_props\n",
      "    a.set_figure(self.figure)\n",
      "AttributeError: 'list' object has no attribute 'set_figure'\n"
     ]
    },
    {
     "data": {
      "image/png": "[encoded data removed]",
      "text/plain": [
       "<Figure size 432x288 with 1 Axes>"
      ]
     },
     "metadata": {
      "needs_background": "light"
     },
     "output_type": "display_data"
    }
   ],
   "source": [
    "fig = plt.figure()\n",
    "ax = plt.axes(xlim=(-1, 1), ylim=(-1, 1));\n",
    "def animate(i):\n",
    "    ax.clear() \n",
    "    originX = np.ones(4)*xF[2*i];\n",
    "    originY = np.ones(4)*xF[2*i+1];\n",
    "    dx = np.array([B[0,0,0]*ut[numPlayers*i, K-1],\n",
    "                   B[0,0,1]*ut[numPlayers*i+1, K-1],\n",
    "                   B[0,0,2]*ut[numPlayers*i+2, K-1],\n",
    "                   B[0,0,3]*ut[numPlayers*i+3, K-1]]);\n",
    "    dy = np.array([B[1,0,0]*ut[numPlayers*i, K-1],\n",
    "                   B[1,0,1]*ut[numPlayers*i+1, K-1],\n",
    "                   B[1,0,2]*ut[numPlayers*i+2, K-1],\n",
    "                   B[1,0,3]*ut[numPlayers*i+3, K-1]]);\n",
    "    for p in range(numPlayers):\n",
    "#         print(originX[p], originY[p],  dx[p], dy[p])\n",
    "        patch = plt.arrow(originX[p], originY[p],  dx[p], dy[p], color = 'g');\n",
    "#         patch = plt.Arrow(originX, originY, dx, dy)\n",
    "        ax.add_patch(patch);\n",
    "    locPatch = plt.plot(xF[2*i], xF[2*i+1], color='b');\n",
    "    ax.add_patch(locPatch);\n",
    "    \n",
    "    return patch, locPatch\n",
    "anim = animation.FuncAnimation(fig, animate, frames=K, interval = 20, blit=True);\n"
   ]
  }
 ],
 "metadata": {
  "kernelspec": {
   "display_name": "Python 2",
   "language": "python",
   "name": "python2"
  },
  "language_info": {
   "codemirror_mode": {
    "name": "ipython",
    "version": 2
   },
   "file_extension": ".py",
   "mimetype": "text/x-python",
   "name": "python",
   "nbconvert_exporter": "python",
   "pygments_lexer": "ipython2",
   "version": "2.7.16"
  },
  "toc": {
   "base_numbering": 1,
   "nav_menu": {},
   "number_sections": true,
   "sideBar": true,
   "skip_h1_title": false,
   "title_cell": "Table of Contents",
   "title_sidebar": "Contents",
   "toc_cell": false,
   "toc_position": {},
   "toc_section_display": true,
   "toc_window_display": false
  }
 },
 "nbformat": 4,
 "nbformat_minor": 2
}
