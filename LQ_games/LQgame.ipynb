{
 "cells": [
  {
   "cell_type": "code",
   "execution_count": 1,
   "metadata": {},
   "outputs": [],
   "source": [
    "import numpy as np\n",
    "import matplotlib.pyplot as plt\n",
    "from matplotlib import animation, rc\n",
    "from IPython.display import HTML"
   ]
  },
  {
   "cell_type": "code",
   "execution_count": 97,
   "metadata": {},
   "outputs": [
    {
     "name": "stdout",
     "output_type": "stream",
     "text": [
      "[[ 0.  0.  0. ...  0.  0.  0.]\n",
      " [ 0.  0.  0. ...  0.  0.  0.]\n",
      " [ 0.  0.  0. ...  0.  0.  0.]\n",
      " ...\n",
      " [-1. -1. -1. ... -1. -1.  0.]\n",
      " [ 0.  0.  0. ...  0.  0.  0.]\n",
      " [-1. -1. -1. ... -1. -1. -1.]]\n"
     ]
    }
   ],
   "source": [
    "# dynamics definition\n",
    "numPlayers = 4;\n",
    "T = 40;\n",
    "A = np.eye(2);\n",
    "B = np.zeros((2, 1, numPlayers))\n",
    "B[:,:,0] = np.array([[1], [0]]);\n",
    "B[:,:,1] = np.array([[1], [-1]])/np.sqrt(2);\n",
    "B[:,:,2] = np.array([[1], [1]])/np.sqrt(2);\n",
    "B[:,:,3] = np.array([[0], [-1]]);\n",
    "G = np.zeros((2*T, T*1 -1, numPlayers)); # 2 is the row dim of B, 1 is the column dim of B\n",
    "H = np.zeros((T*2, 2));\n",
    "for p in range(numPlayers):\n",
    "    for col in range(T):\n",
    "        Abar = np.eye(2); row=col+1;\n",
    "        while row < T:\n",
    "            G[row*2: (row+1)*2, col, p] = np.squeeze(Abar.dot(B[:,:,p]));\n",
    "            if p == 0:\n",
    "                H[col*2:(col+1)*2,:] = 1.0*Abar;\n",
    "            Abar  = Abar.dot(A);\n",
    "            row += 1;\n",
    "Rscaler = 0.05;\n",
    "Q = np.eye(2);\n",
    "R = Rscaler*np.eye(1);\n",
    "print (G[:,:,3])"
   ]
  },
  {
   "cell_type": "code",
   "execution_count": 98,
   "metadata": {},
   "outputs": [
    {
     "name": "stdout",
     "output_type": "stream",
     "text": [
      "(1.5625082959483782e-05-3.72116672202872e-14j)\n",
      "[0.98023571+4.70693242e-11j 0.98023571+4.70693242e-11j\n",
      " 0.99780096+5.23709596e-12j 0.99780096+5.23709596e-12j\n",
      " 0.99920617+1.89052525e-12j 0.99920617+1.89052525e-12j\n",
      " 0.99959332+9.68520532e-13j 0.99975264+5.89105677e-13j\n",
      " 0.99959332+9.68520532e-13j 0.99975264+5.89105677e-13j\n",
      " 0.99987965+2.86615292e-13j 0.99983328+3.97058362e-13j\n",
      " 0.99983328+3.97058362e-13j 0.99990874+2.17335604e-13j\n",
      " 0.99987965+2.86615292e-13j 0.99990874+2.17335604e-13j\n",
      " 0.9999418 +1.38607256e-13j 0.99992818+1.71048597e-13j\n",
      " 0.99992818+1.71048597e-13j 0.99995915+9.72935029e-14j\n",
      " 0.9999418 +1.38607256e-13j 0.99995171+1.14999803e-13j\n",
      " 0.99995171+1.14999803e-13j 0.99995915+9.72935028e-14j\n",
      " 0.99996486+8.36794916e-14j 0.99997293+6.44564660e-14j\n",
      " 0.99996486+8.36794918e-14j 0.99996935+7.29929778e-14j\n",
      " 0.99997823+5.18505062e-14j 0.99996935+7.29929778e-14j\n",
      " 0.99998021+4.71301364e-14j 0.99997584+5.75349408e-14j\n",
      " 0.99997584+5.75349399e-14j 0.99997293+6.44564659e-14j\n",
      " 0.99997823+5.18505063e-14j 0.99998021+4.71301356e-14j\n",
      " 0.99998187+4.31726279e-14j 0.99998187+4.31726280e-14j\n",
      " 0.99998328+3.98271082e-14j 0.99998328+3.98271082e-14j\n",
      " 0.99998447+3.69786811e-14j 0.99998447+3.69786780e-14j\n",
      " 0.9999855 +3.45386368e-14j 0.99998714+3.06209958e-14j\n",
      " 0.9999855 +3.45400512e-14j 0.99998638+3.24392803e-14j\n",
      " 0.99998638+3.24162950e-14j 0.99998714+3.06660912e-14j\n",
      " 0.9999878 +2.90449274e-14j 0.9999878 +2.89872410e-14j\n",
      " 0.9999897 +2.45354791e-14j 0.99999056+2.24845817e-14j\n",
      " 0.99999094+2.15536989e-14j 0.99998838+2.76740484e-14j\n",
      " 0.99998838+2.76904152e-14j 0.99998888+2.64718802e-14j\n",
      " 0.99998888+2.65081197e-14j 0.99998932+2.54508864e-14j\n",
      " 0.99998932+2.55315991e-14j 0.99999003+2.37313746e-14j\n",
      " 0.99999139+2.05045038e-14j 0.99999139+2.05975018e-14j\n",
      " 0.99999003+2.37708406e-14j 0.99999031+2.30538425e-14j\n",
      " 0.99999031+2.31318039e-14j 0.9999897 +2.45788091e-14j\n",
      " 0.99999136+2.06836679e-14j 0.99999109+2.11837264e-14j\n",
      " 0.99999077+2.20794547e-14j 0.99999077+2.19054037e-14j\n",
      " 0.99999136+2.09757353e-14j 0.99999109+2.09919031e-14j\n",
      " 0.99999129+2.06570872e-14j 0.99999129+2.07876725e-14j\n",
      " 0.99999121+2.10803588e-14j 0.99999121+2.12079703e-14j\n",
      " 0.99999056+2.25603384e-14j 0.99999922+1.91233020e-15j\n",
      " 0.99999094+2.15616122e-14j 0.99999922+1.86114145e-15j\n",
      " 0.99999922+1.86091106e-15j 0.99999922+1.86103303e-15j\n",
      " 0.99999922+1.86186651e-15j 0.99999922+1.88976439e-15j\n",
      " 0.99999922+1.84130055e-15j 0.99999922+1.86276775e-15j\n",
      " 0.99999922+2.03743272e-15j 0.99999922+2.10942375e-15j\n",
      " 0.99999922+1.52655666e-15j 0.99999922+1.72084569e-15j\n",
      " 0.99999922+1.77635684e-15j 0.99999922+2.30371278e-15j\n",
      " 0.99999922+1.74860126e-15j 0.99999922+1.99840144e-15j\n",
      " 0.99999922+1.85441940e-15j 0.99999922+1.87398925e-15j\n",
      " 0.99999922+1.88737914e-15j 0.99999922+1.77982629e-15j\n",
      " 0.99999922+1.86058327e-15j 0.99999922+1.86058341e-15j\n",
      " 0.99999922+1.86058315e-15j 0.99999922+1.86058345e-15j\n",
      " 0.99999922+1.86058356e-15j 0.99999922+1.86058364e-15j\n",
      " 0.99999922+1.86058279e-15j 0.99999922+1.86058431e-15j\n",
      " 0.99999922+1.86058336e-15j 0.99999922+1.86058225e-15j\n",
      " 0.99999922+1.86058283e-15j 0.99999922+1.86058325e-15j\n",
      " 0.99999922+1.55431223e-15j 0.99999922+2.19269047e-15j\n",
      " 0.99999922+1.86058366e-15j 0.99999922+1.86058527e-15j\n",
      " 0.99999922+1.86058263e-15j 0.99999922+1.86058325e-15j\n",
      " 0.99999922+1.86058331e-15j 0.99999922+1.86058663e-15j\n",
      " 0.99999922+1.86058749e-15j 0.99999922+1.86058400e-15j\n",
      " 0.99999922+1.85962357e-15j 0.99999922+1.86092461e-15j\n",
      " 0.99999922+1.86058238e-15j 0.99999922+1.86058508e-15j\n",
      " 0.99999922+1.86058887e-15j 0.99999922+1.86058755e-15j\n",
      " 0.99999922+1.86058140e-15j 0.99999922+1.86057595e-15j\n",
      " 0.99999922+1.86058368e-15j 0.99999922+1.86058516e-15j\n",
      " 0.99999922+1.86058580e-15j 0.99999922+1.86059088e-15j\n",
      " 0.99999922+1.86059829e-15j 0.99999922+1.86054683e-15j\n",
      " 0.99999922+1.86057224e-15j 0.99999922+1.86058664e-15j\n",
      " 0.99999922+1.86059517e-15j 0.99999922+1.86058580e-15j\n",
      " 0.99999922+1.86057013e-15j 0.99999922+1.86057224e-15j\n",
      " 0.99999922+1.86058876e-15j 0.99999922+1.86057568e-15j\n",
      " 0.99999922+1.86057007e-15j 0.99999922+1.86056886e-15j\n",
      " 0.99999922+1.86053836e-15j 0.99999922+1.86058580e-15j\n",
      " 0.99999922+1.86057648e-15j 0.99999922+1.86059935e-15j\n",
      " 0.99999922+1.86058580e-15j 0.99999922+1.86057902e-15j\n",
      " 0.99999922+1.99840144e-15j 0.99999922+1.80411242e-15j\n",
      " 0.99999922+1.86179197e-15j 0.99999922+1.85875620e-15j\n",
      " 0.99999922+1.86049093e-15j 0.99999922+1.85962357e-15j]\n"
     ]
    }
   ],
   "source": [
    "# derive the step sizes\n",
    "J = np.zeros(((T-1)*numPlayers,(T-1)*numPlayers));\n",
    "diagQ = np.eye(2*T); diagR = Rscaler*np.eye(T-1);\n",
    "for i in range(T):\n",
    "    diagQ[i*2: 2*(i+1), 2*i: 2*(i+1)] = Q;\n",
    "    if i < T-1:\n",
    "        diagR[i: (i+1), i: (i+1)] = R;\n",
    "    \n",
    "for i in range(numPlayers):\n",
    "    for j in range(numPlayers):\n",
    "        J[(T-1)*i:(T-1)*(i+1), (T-1)*j:(T-1)*(j+1)]  = G[:,:,i].T.dot(diagQ).dot(G[:,:,j]);\n",
    "        if i == j:\n",
    "            J[(T-1)*i:(T-1)*(i+1), (T-1)*i:(T-1)*(i+1)] += diagR;\n",
    "S = 0.5*(J + J.T);  \n",
    "eigS, eigVecS = np.linalg.eig(S.T.dot(S));\n",
    "# print (eigS);\n",
    "alpha = np.min(eigS); \n",
    "eigJ, eigVecJ = np.linalg.eig(J.T.dot(J));\n",
    "beta = np.max(eigJ);\n",
    "gammai = 500*np.sqrt(alpha)/beta;\n",
    "# gammai= alpha/beta;\n",
    "\n",
    "print (gammai)\n",
    "dim, dim2 = J.shape;\n",
    "barA = np.eye(dim) - gammai*J; \n",
    "w, v = np.linalg.eig(barA);\n",
    "print (w)            \n"
   ]
  },
  {
   "cell_type": "code",
   "execution_count": 6,
   "metadata": {},
   "outputs": [
    {
     "name": "stdout",
     "output_type": "stream",
     "text": [
      "(36, 36)\n"
     ]
    }
   ],
   "source": [
    "print(J.shape)"
   ]
  },
  {
   "cell_type": "code",
   "execution_count": 101,
   "metadata": {},
   "outputs": [
    {
     "name": "stderr",
     "output_type": "stream",
     "text": [
      "C:\\Users\\craba\\Anaconda3\\lib\\site-packages\\ipykernel_launcher.py:15: ComplexWarning: Casting complex values to real discards the imaginary part\n",
      "  from ipykernel import kernelapp as app\n"
     ]
    }
   ],
   "source": [
    "K = 1000; # number of times to iterate\n",
    "# run gradient dynamics\n",
    "x0 = 10*np.random.rand((2)) + np.array([-0.5, -0.5]);\n",
    "ut = np.zeros((numPlayers*(T-1),K));\n",
    "Jt = np.zeros((K, numPlayers));\n",
    "ut[:,0] = np.random.rand((numPlayers*(T-1)));\n",
    "Hstacked = np.zeros((numPlayers*(T-1), 2));\n",
    "\n",
    "for p in range(numPlayers):\n",
    "    Hstacked[p*(T-1):(p+1)*(T-1), :] = G[:, :, p].T.dot(diagQ).dot(H);\n",
    "     \n",
    "xt = np.zeros((T*2, K))    \n",
    "for k in range(K):\n",
    "    if k> 0:\n",
    "        ut[:, k] = barA.dot(ut[:,k-1]) - gammai*Hstacked.dot(x0);\n",
    "    xt[:,k] = H.dot(x0);\n",
    "    for p in range(numPlayers):\n",
    "#         print((p+1)*T)\n",
    "        xt[:,k] += G[:,:,p].dot(ut[p*(T-1):(p+1)*(T-1),k]);\n",
    "    for p in range(numPlayers):  \n",
    "#         print(p+1)\n",
    "        Jt[k,p] = 0.5*xt[:,k].T.dot(diagQ).dot(xt[:,k]) + 0.5*ut[p*(T-1):(p+1)*(T-1), k].T.dot(diagR).dot(ut[p*(T-1):(p+1)*(T-1), k]); \n",
    "# drawGame(x0, u0)\n",
    "# print(np.linspace(0,K,100).shape)"
   ]
  },
  {
   "cell_type": "code",
   "execution_count": 102,
   "metadata": {},
   "outputs": [
    {
     "data": {
      "image/png": "[encoded data removed]",
      "text/plain": [
       "<Figure size 432x288 with 1 Axes>"
      ]
     },
     "metadata": {
      "needs_background": "light"
     },
     "output_type": "display_data"
    }
   ],
   "source": [
    "plt.figure()\n",
    "for p in range(numPlayers):\n",
    "    plt.plot(np.linspace(0,K,K), Jt[:,p]);\n",
    "plt.grid()\n",
    "# plt.yscale('log')\n",
    "plt.show()"
   ]
  },
  {
   "cell_type": "code",
   "execution_count": 104,
   "metadata": {},
   "outputs": [
    {
     "name": "stdout",
     "output_type": "stream",
     "text": [
      "[ 8.02411676e+00  4.57160716e+00  6.08051475e+00  3.66558695e+00\n",
      "  4.95539879e+00  3.42418977e+00  3.75573112e+00  2.57081133e+00\n",
      "  3.36330687e+00  1.58178645e+00  2.61787404e+00  1.31325386e+00\n",
      "  8.20200047e-01  1.06025155e+00  3.37953666e-01  8.10022926e-01\n",
      "  7.31161211e-01  4.98946081e-01  1.09591419e-01  3.45563016e-01\n",
      "  4.01292713e-01  4.63546611e-01  3.53144473e-01  2.84193585e-01\n",
      "  9.31530318e-01 -2.40898260e-01  6.55446012e-01 -6.80194744e-01\n",
      " -1.57971504e-02 -4.60996038e-01 -4.04145787e-01 -2.37817067e-02\n",
      " -1.42348219e+00  5.23494128e-01 -8.72213484e-01  3.09584270e-01\n",
      " -1.00502793e+00 -3.02856037e-01 -1.11675458e+00  5.27546382e-03\n",
      " -6.85808563e-01  1.70128507e-02 -1.24814819e+00  3.77960734e-01\n",
      " -1.18571695e+00 -1.35432008e-01 -6.99365042e-01 -6.09404822e-01\n",
      " -1.60043670e-01 -6.32323333e-03 -4.21878076e-02  5.81239623e-01\n",
      " -4.05877958e-01  9.05853744e-01 -2.87472957e-01  6.23344834e-01\n",
      " -7.02936932e-01  4.59062963e-01 -4.37547879e-01  5.19781406e-01\n",
      " -5.80897784e-01  4.72489397e-01 -1.26874537e+00  1.75518307e-01\n",
      " -5.46301252e-01  5.43123351e-01  8.24056512e-02  1.95882844e-01\n",
      "  8.20470255e-01  2.38151352e-01  1.42108609e+00  1.69705883e-01\n",
      "  1.43025612e+00 -7.48507790e-02  2.20551731e+00 -5.14061818e-01\n",
      "  3.46980559e+00 -3.49133575e-01 -3.10093068e+00 -5.06599319e+00]\n",
      "[-1.33301802e+00 -8.33262042e-01 -3.79770909e-01 -2.95638015e-01\n",
      " -5.49893849e-01 -9.24173314e-01 -1.84915983e-01  3.37113259e-02\n",
      " -2.50344394e-01  1.00490501e-01 -8.72555698e-02  5.51901671e-03\n",
      " -6.13886417e-01 -4.33705933e-01 -2.15739672e-01 -5.87230955e-01\n",
      "  1.61326563e-01 -7.60910235e-02 -6.29448919e-01  2.71419626e-01\n",
      " -6.02780264e-01 -1.41357772e-01 -7.62598165e-02 -3.74416319e-02\n",
      " -1.11557228e-01 -4.93827666e-01 -1.58554942e-01 -4.58790163e-01\n",
      "  1.27999305e-01  2.12769863e-01 -3.77929002e-01  4.14210965e-02\n",
      "  4.09511175e-01 -1.38753964e-01 -3.34564909e-02 -1.05140997e-01\n",
      "  3.94836877e-01  2.60268501e-01  6.26226895e-01 -2.35047931e-01\n",
      " -3.92633871e-01 -3.30421622e-01  1.80858410e-01 -3.85309731e-02\n",
      " -6.13388769e-01 -8.16422090e-02  6.85495686e-02 -3.43488510e-01\n",
      "  3.39631310e-02  1.47041098e-01  2.19614871e-01  9.03225979e-02\n",
      " -5.85497671e-01 -5.90943879e-01 -5.60906979e-01 -6.74354247e-02\n",
      "  6.13999164e-02  1.63860276e-01  2.22810713e-01 -4.67918480e-01\n",
      "  1.92881504e-01  2.58476215e-01  5.99163130e-02 -3.18919485e-01\n",
      " -7.27230407e-02 -3.34381806e-02  4.36234081e-02  2.17558365e-01\n",
      " -4.65357214e-01 -4.87665716e-01  2.14657570e-01  3.99884419e-01\n",
      "  4.08887140e-01  5.80170131e-01  3.81324104e-02  3.06825000e-01\n",
      "  4.24852553e-01  3.34660600e-01 -6.28448223e-01 -2.01099052e-02\n",
      " -8.29087491e-01 -3.17734812e-01 -2.38002918e-01 -6.21927732e-01\n",
      " -3.38846473e-01  4.39854860e-01 -1.81503481e-01  2.36449765e-01\n",
      " -9.17349812e-02  5.90541167e-01  3.87401729e-01  2.49569299e-01\n",
      "  3.46837941e-01 -5.01824075e-02  6.18896894e-01 -1.41618949e-01\n",
      "  5.68309580e-01  2.79366959e-03  5.25110179e-01  9.53196729e-02\n",
      "  5.37176923e-01  7.55749749e-01  6.43358588e-01  2.56765281e-01\n",
      "  4.25118688e-01  1.76490741e-02 -2.32599204e-02 -3.82721926e-02\n",
      "  4.93746480e-02  7.48454427e-01 -8.98948461e-02  8.31121571e-01\n",
      "  3.16543554e-01  1.23527799e-01  2.31176221e-01  9.95045834e-01\n",
      "  8.35111219e-01  6.27844199e-01  5.04811396e-01  5.00768421e-01\n",
      "  6.36466238e-01  1.27484627e-01  2.46964349e-01  6.83577446e-02\n",
      "  5.73629335e-01  2.67923777e-01  2.51960775e-02  1.05128408e-02\n",
      "  7.87376344e-01  6.49363152e-01  3.71282811e-01  2.25897553e-01\n",
      " -1.86139027e-01  6.99220095e-01  4.68884290e-01 -2.21426549e-02\n",
      " -1.67312930e-01  3.41229416e-01  4.44406109e-01  6.71043974e-01\n",
      " -1.11053047e-01  9.28704947e-02 -9.16306943e-02  6.06757582e-01\n",
      "  1.45915244e-01 -2.31002686e-01  3.49286723e-01  6.76715974e-01\n",
      "  9.84633333e-03  9.14267515e-04  2.56296321e-01 -1.17966671e-01\n",
      "  3.04940321e-01  3.85719274e-01  2.38259293e-01  4.99124477e-01]\n"
     ]
    }
   ],
   "source": [
    "xF = xt[:,K-1];\n",
    "print (xF);\n",
    "uF = ut[:,K-1]\n",
    "print (uF);\n",
    "# print (A)\n",
    "# fig, ax = plt.subplots()\n",
    "# ax.set_xlim((-1, 1));\n",
    "# ax.set_ylim((-1, 2));\n",
    "\n",
    "\n",
    "# plt.figure()\n",
    "# for p in range(numPlayers):\n",
    "#     plt.plot(np.linspace(0,K,100), Jt[:,p]);\n",
    "# plt.grid()\n",
    "# plt.yscale('log')\n",
    "# plt.show()"
   ]
  },
  {
   "cell_type": "code",
   "execution_count": 105,
   "metadata": {},
   "outputs": [
    {
     "data": {
      "image/png": "[encoded data removed]",
      "text/plain": [
       "<Figure size 432x288 with 1 Axes>"
      ]
     },
     "metadata": {
      "needs_background": "light"
     },
     "output_type": "display_data"
    }
   ],
   "source": [
    "def drawGame(xt, ut):\n",
    "    plt.figure();\n",
    "    \n",
    "    for p in range(numPlayers):\n",
    "        plt.arrow(x0[0], x0[1],  B[0,0,p]*ut[p], B[1, 0, p]*ut[p], color = 'g');\n",
    "    plt.scatter(x0[0], x0[1], color = 'b');\n",
    "    bounds = 0.5*np.array([[-1,-1,1,1], [-1,1,1,-1]]);\n",
    "    plt.scatter(bounds[0,:], bounds[1,:], color = 'w');\n",
    "    plt.grid();\n",
    "    plt.show();\n",
    "# originX = np.ones(4)*xF[2*i];\n",
    "# originY = np.ones(4)*xF[2*i+1];\n",
    "# dx = np.array([B[0,0,0]*ut[numPlayers*i, K-1],\n",
    "#                B[0,0,1]*ut[numPlayers*i+1, K-1],\n",
    "#                B[0,0,2]*ut[numPlayers*i+2, K-1],\n",
    "#                B[0,0,3]*ut[numPlayers*i+3, K-1]]);\n",
    "# dy = np.array([B[1,0,0]*ut[numPlayers*i, K-1],\n",
    "#                B[1,0,1]*ut[numPlayers*i+1, K-1],\n",
    "#                B[1,0,2]*ut[numPlayers*i+2, K-1],\n",
    "#                B[1,0,3]*ut[numPlayers*i+3, K-1]]);\n",
    "\n",
    "# print (dx)\n",
    "fig, ax = plt.subplots();\n",
    "limits = 4;\n",
    "ax.set_xlim((-limits, limits));\n",
    "ax.set_ylim((-limits, limits));\n",
    "# plt.plot(xF[2*i], xF[2*i+1], color = 'b', label = str(i));\n",
    "#     originX = np.ones(4)*xF[2*i];\n",
    "for i in range(T-1):\n",
    "#     print(i)\n",
    "    plt.scatter(xF[2*i], xF[2*i+1], color = (1.*i/T,1.*i/T,1.*i/T), label = str(i));\n",
    "#     originX = np.ones(4)*xF[2*i];\n",
    "#     originY = np.ones(4)*xF[2*i+1];\n",
    "    dx = np.array([B[0,0,0]*ut[numPlayers*i, K-1]*0.1,\n",
    "                   B[0,0,1]*ut[numPlayers*i+1, K-1]*0.1,\n",
    "                   B[0,0,2]*ut[numPlayers*i+2, K-1]*0.1,\n",
    "                   B[0,0,3]*ut[numPlayers*i+3, K-1]*0.1]);\n",
    "    dy = np.array([B[1,0,0]*ut[numPlayers*i, K-1]*0.1,\n",
    "                   B[1,0,1]*ut[numPlayers*i+1, K-1]*0.1,\n",
    "                   B[1,0,2]*ut[numPlayers*i+2, K-1]*0.1,\n",
    "                   B[1,0,3]*ut[numPlayers*i+3, K-1]*0.1]);\n",
    "    # plt.arrow(originX, originY,  dx, dy, color = 'g');\n",
    "    for p in range(numPlayers):\n",
    "#         print(xF[2*i], xF[2*i+1],  dx[p], dy[p])\n",
    "        plt.arrow(xF[2*i], xF[2*i+1],  dx[p], dy[p], color = 'g');\n",
    "plt.scatter(xF[2*(T-1)], xF[2*(T-1)+1], color = (0.9,0.9,0.9), label = str(T - 1));\n",
    "plt.grid();\n",
    "plt.legend()\n",
    "plt.show()"
   ]
  },
  {
   "cell_type": "code",
   "execution_count": 82,
   "metadata": {},
   "outputs": [
    {
     "name": "stdout",
     "output_type": "stream",
     "text": [
      "[2152.31715344 2084.51496708 2018.88326928 1955.35248486 1893.85526923\n",
      " 1834.32643686 1776.70289212 1720.9235622  1666.92933231 1614.6629829\n",
      " 1564.06912884 1515.0941607  1467.68618774 1421.79498285 1377.37192918\n",
      " 1334.36996858 1292.74355152 1252.44858884 1213.44240484 1175.68369199\n",
      " 1139.1324671  1103.75002882 1069.49891654 1036.34287065 1004.246794\n",
      "  973.17671463  943.09974973  913.98407068  885.79886929  858.51432505\n",
      "  832.10157347  806.53267546  781.78058763  757.81913358  734.6229761\n",
      "  712.16759029  690.42923748  669.38494004  649.012457    629.29026039\n",
      "  610.19751242  591.71404334  573.82032999  556.49747514  539.72718735\n",
      "  523.49176158  507.77406041  492.5574958   477.8260115   463.56406601]\n"
     ]
    }
   ],
   "source": [
    "print( Jt[:,1])"
   ]
  },
  {
   "cell_type": "code",
   "execution_count": 51,
   "metadata": {},
   "outputs": [
    {
     "name": "stderr",
     "output_type": "stream",
     "text": [
      "Traceback (most recent call last):\n",
      "  File \"/home/sarahli/anaconda2/lib/python2.7/site-packages/matplotlib/cbook/__init__.py\", line 387, in process\n",
      "    proxy(*args, **kwargs)\n",
      "  File \"/home/sarahli/anaconda2/lib/python2.7/site-packages/matplotlib/cbook/__init__.py\", line 227, in __call__\n",
      "    return mtd(*args, **kwargs)\n",
      "  File \"/home/sarahli/anaconda2/lib/python2.7/site-packages/matplotlib/animation.py\", line 1026, in _start\n",
      "    self._init_draw()\n",
      "  File \"/home/sarahli/anaconda2/lib/python2.7/site-packages/matplotlib/animation.py\", line 1750, in _init_draw\n",
      "    self._draw_frame(next(self.new_frame_seq()))\n",
      "  File \"/home/sarahli/anaconda2/lib/python2.7/site-packages/matplotlib/animation.py\", line 1772, in _draw_frame\n",
      "    self._drawn_artists = self._func(framedata, *self._args)\n",
      "  File \"<ipython-input-51-c5afcc55fbff>\", line 21, in animate\n",
      "    ax.add_patch(locPatch);\n",
      "  File \"/home/sarahli/anaconda2/lib/python2.7/site-packages/matplotlib/axes/_base.py\", line 2032, in add_patch\n",
      "    self._set_artist_props(p)\n",
      "  File \"/home/sarahli/anaconda2/lib/python2.7/site-packages/matplotlib/axes/_base.py\", line 956, in _set_artist_props\n",
      "    a.set_figure(self.figure)\n",
      "AttributeError: 'list' object has no attribute 'set_figure'\n"
     ]
    },
    {
     "data": {
      "image/png": "[encoded data removed]",
      "text/plain": [
       "<Figure size 432x288 with 1 Axes>"
      ]
     },
     "metadata": {
      "needs_background": "light"
     },
     "output_type": "display_data"
    }
   ],
   "source": [
    "fig = plt.figure()\n",
    "ax = plt.axes(xlim=(-1, 1), ylim=(-1, 1));\n",
    "def animate(i):\n",
    "    ax.clear() \n",
    "    originX = np.ones(4)*xF[2*i];\n",
    "    originY = np.ones(4)*xF[2*i+1];\n",
    "    dx = np.array([B[0,0,0]*ut[numPlayers*i, K-1],\n",
    "                   B[0,0,1]*ut[numPlayers*i+1, K-1],\n",
    "                   B[0,0,2]*ut[numPlayers*i+2, K-1],\n",
    "                   B[0,0,3]*ut[numPlayers*i+3, K-1]]);\n",
    "    dy = np.array([B[1,0,0]*ut[numPlayers*i, K-1],\n",
    "                   B[1,0,1]*ut[numPlayers*i+1, K-1],\n",
    "                   B[1,0,2]*ut[numPlayers*i+2, K-1],\n",
    "                   B[1,0,3]*ut[numPlayers*i+3, K-1]]);\n",
    "    for p in range(numPlayers):\n",
    "#         print(originX[p], originY[p],  dx[p], dy[p])\n",
    "        patch = plt.arrow(originX[p], originY[p],  dx[p], dy[p], color = 'g');\n",
    "#         patch = plt.Arrow(originX, originY, dx, dy)\n",
    "        ax.add_patch(patch);\n",
    "    locPatch = plt.plot(xF[2*i], xF[2*i+1], color='b');\n",
    "    ax.add_patch(locPatch);\n",
    "    \n",
    "    return patch, locPatch\n",
    "anim = animation.FuncAnimation(fig, animate, frames=K, interval = 20, blit=True);\n"
   ]
  }
 ],
 "metadata": {
  "kernelspec": {
   "display_name": "Python 3",
   "language": "python",
   "name": "python3"
  },
  "language_info": {
   "codemirror_mode": {
    "name": "ipython",
    "version": 3
   },
   "file_extension": ".py",
   "mimetype": "text/x-python",
   "name": "python",
   "nbconvert_exporter": "python",
   "pygments_lexer": "ipython3",
   "version": "3.7.5"
  },
  "toc": {
   "base_numbering": 1,
   "nav_menu": {},
   "number_sections": true,
   "sideBar": true,
   "skip_h1_title": false,
   "title_cell": "Table of Contents",
   "title_sidebar": "Contents",
   "toc_cell": false,
   "toc_position": {},
   "toc_section_display": true,
   "toc_window_display": false
  }
 },
 "nbformat": 4,
 "nbformat_minor": 2
}
